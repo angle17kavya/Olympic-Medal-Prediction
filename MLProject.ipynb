{
  "nbformat": 4,
  "nbformat_minor": 0,
  "metadata": {
    "colab": {
      "provenance": [],
      "authorship_tag": "ABX9TyNuOrbJ6E7oYvgGo4hDQ/kp",
      "include_colab_link": true
    },
    "kernelspec": {
      "name": "python3",
      "display_name": "Python 3"
    },
    "language_info": {
      "name": "python"
    }
  },
  "cells": [
    {
      "cell_type": "markdown",
      "metadata": {
        "id": "view-in-github",
        "colab_type": "text"
      },
      "source": [
        "<a href=\"https://colab.research.google.com/github/angle17kavya/Olympic-Medal-Prediction/blob/main/MLProject.ipynb\" target=\"_parent\"><img src=\"https://colab.research.google.com/assets/colab-badge.svg\" alt=\"Open In Colab\"/></a>"
      ]
    },
    {
      "cell_type": "code",
      "execution_count": null,
      "metadata": {
        "id": "Zf5TjN6ygyD_"
      },
      "outputs": [],
      "source": [
        "import numpy as np\n",
        "import pandas as pd\n",
        "import seaborn as sns\n",
        "import matplotlib.pyplot as plt\n",
        "from sklearn.model_selection import StratifiedShuffleSplit\n",
        "from sklearn.tree import DecisionTreeClassifier\n",
        "from sklearn.ensemble import RandomForestClassifier\n",
        "from sklearn.metrics import confusion_matrix\n",
        "import sklearn\n",
        "from sklearn.ensemble import BaggingClassifier\n",
        "from sklearn import metrics"
      ]
    },
    {
      "cell_type": "code",
      "source": [
        "summer_df=pd.read_csv('/content/sample_data/Athletes_summer_games.csv')\n",
        "winter_df=pd.read_csv('/content/sample_data/Athletes_winter_games.csv')\n",
        "region_df=pd.read_csv('/content/sample_data/regions.csv')"
      ],
      "metadata": {
        "id": "gPG9QK-Ng8IC"
      },
      "execution_count": null,
      "outputs": []
    },
    {
      "cell_type": "code",
      "source": [
        "summer_df.dtypes"
      ],
      "metadata": {
        "colab": {
          "base_uri": "https://localhost:8080/"
        },
        "id": "Le1U30gTjU7m",
        "outputId": "33fa81cd-0703-4644-93ca-1c4faba30e7f"
      },
      "execution_count": null,
      "outputs": [
        {
          "output_type": "execute_result",
          "data": {
            "text/plain": [
              "Unnamed: 0      int64\n",
              "Name           object\n",
              "Sex            object\n",
              "Age           float64\n",
              "Team           object\n",
              "NOC            object\n",
              "Games          object\n",
              "Year            int64\n",
              "Season         object\n",
              "City           object\n",
              "Sport          object\n",
              "Event          object\n",
              "Medal          object\n",
              "dtype: object"
            ]
          },
          "metadata": {},
          "execution_count": 6
        }
      ]
    },
    {
      "cell_type": "code",
      "source": [
        "summer_df.shape\n"
      ],
      "metadata": {
        "colab": {
          "base_uri": "https://localhost:8080/"
        },
        "id": "XBp_PPO2ja36",
        "outputId": "158f7603-6789-447b-f945-45c99a31051b"
      },
      "execution_count": null,
      "outputs": [
        {
          "output_type": "execute_result",
          "data": {
            "text/plain": [
              "(237673, 13)"
            ]
          },
          "metadata": {},
          "execution_count": 7
        }
      ]
    },
    {
      "cell_type": "code",
      "source": [
        "summer_df.Season.unique()"
      ],
      "metadata": {
        "colab": {
          "base_uri": "https://localhost:8080/"
        },
        "id": "oa-HPwgijifq",
        "outputId": "a43d7aaf-3a17-488c-b153-36002fe60874"
      },
      "execution_count": null,
      "outputs": [
        {
          "output_type": "execute_result",
          "data": {
            "text/plain": [
              "array(['Summer'], dtype=object)"
            ]
          },
          "metadata": {},
          "execution_count": 8
        }
      ]
    },
    {
      "cell_type": "code",
      "source": [
        "summer_df.NOC.unique()"
      ],
      "metadata": {
        "colab": {
          "base_uri": "https://localhost:8080/"
        },
        "id": "LuZlkE7EjjOj",
        "outputId": "ad6e4c78-0ec3-424c-815e-bd0b6bdf51f0"
      },
      "execution_count": null,
      "outputs": [
        {
          "output_type": "execute_result",
          "data": {
            "text/plain": [
              "array(['CHN', 'DEN', 'NED', 'FIN', 'NOR', 'ROU', 'EST', 'FRA', 'MAR',\n",
              "       'ESP', 'EGY', 'IRI', 'BUL', 'ITA', 'CHA', 'AZE', 'SUD', 'RUS',\n",
              "       'ARG', 'CUB', 'BLR', 'GRE', 'CMR', 'TUR', 'CHI', 'MEX', 'USA',\n",
              "       'URS', 'NCA', 'HUN', 'NGR', 'ALG', 'KUW', 'BRN', 'PAK', 'IRQ',\n",
              "       'UAR', 'LIB', 'QAT', 'MAS', 'GER', 'CAN', 'IRL', 'AUS', 'RSA',\n",
              "       'ERI', 'TAN', 'JOR', 'TUN', 'LBA', 'BEL', 'DJI', 'PLE', 'COM',\n",
              "       'KAZ', 'BRU', 'IND', 'KSA', 'SYR', 'MDV', 'ETH', 'UAE', 'YAR',\n",
              "       'INA', 'PHI', 'SGP', 'UZB', 'KGZ', 'TJK', 'EUN', 'JPN', 'CGO',\n",
              "       'SUI', 'BRA', 'GDR', 'MON', 'ISR', 'URU', 'SWE', 'SRI', 'ARM',\n",
              "       'CIV', 'KEN', 'BEN', 'GBR', 'GHA', 'SOM', 'NIG', 'MLI', 'AFG',\n",
              "       'POL', 'CRC', 'PAN', 'GEO', 'SLO', 'GUY', 'NZL', 'POR', 'PAR',\n",
              "       'ANG', 'VEN', 'COL', 'FRG', 'BAN', 'PER', 'ESA', 'PUR', 'UGA',\n",
              "       'HON', 'ECU', 'TKM', 'MRI', 'SEY', 'TCH', 'LUX', 'MTN', 'SKN',\n",
              "       'TTO', 'DOM', 'VIN', 'JAM', 'LBR', 'SUR', 'NEP', 'MGL', 'AUT',\n",
              "       'PLW', 'LTU', 'TOG', 'NAM', 'AHO', 'UKR', 'ISL', 'ASA', 'SAM',\n",
              "       'RWA', 'CRO', 'DMA', 'HAI', 'MLT', 'CYP', 'GUI', 'BIZ', 'YMD',\n",
              "       'THA', 'BER', 'ANZ', 'SCG', 'SLE', 'PNG', 'YEM', 'IOA', 'OMA',\n",
              "       'FIJ', 'VAN', 'MDA', 'BAH', 'GUA', 'YUG', 'LAT', 'SRB', 'IVB',\n",
              "       'MOZ', 'ISV', 'CAF', 'MAD', 'MAL', 'BIH', 'GUM', 'CAY', 'SVK',\n",
              "       'BAR', 'GBS', 'TLS', 'COD', 'GAB', 'SMR', 'LAO', 'BOT', 'ROT',\n",
              "       'KOR', 'CAM', 'PRK', 'SOL', 'SEN', 'CPV', 'CZE', 'CRT', 'GEQ',\n",
              "       'BOL', 'SAA', 'ANT', 'AND', 'ZIM', 'GRN', 'HKG', 'LCA', 'FSM',\n",
              "       'MYA', 'MAW', 'ZAM', 'RHO', 'TPE', 'STP', 'MKD', 'BOH', 'LIE',\n",
              "       'MNE', 'GAM', 'COK', 'ALB', 'WIF', 'SWZ', 'BUR', 'NBO', 'BDI',\n",
              "       'ARU', 'NRU', 'VNM', 'VIE', 'BHU', 'MHL', 'KIR', 'UNK', 'TUV',\n",
              "       'TGA', 'NFL', 'KOS', 'SSD', 'LES', 'ROC', 'EOR', 'LBN'],\n",
              "      dtype=object)"
            ]
          },
          "metadata": {},
          "execution_count": 9
        }
      ]
    },
    {
      "cell_type": "markdown",
      "source": [
        "### **For winter data**"
      ],
      "metadata": {
        "id": "Mws_pRTIjm2D"
      }
    },
    {
      "cell_type": "code",
      "source": [
        "winter_df.dtypes"
      ],
      "metadata": {
        "colab": {
          "base_uri": "https://localhost:8080/"
        },
        "id": "Wt15UGx7jpby",
        "outputId": "2c341dfc-87e1-4bc6-b360-3d777e960d0e"
      },
      "execution_count": null,
      "outputs": [
        {
          "output_type": "execute_result",
          "data": {
            "text/plain": [
              "Unnamed: 0      int64\n",
              "Name           object\n",
              "Sex            object\n",
              "Age           float64\n",
              "Team           object\n",
              "NOC            object\n",
              "Games          object\n",
              "Year            int64\n",
              "Season         object\n",
              "City           object\n",
              "Sport          object\n",
              "Event          object\n",
              "Medal          object\n",
              "dtype: object"
            ]
          },
          "metadata": {},
          "execution_count": 10
        }
      ]
    },
    {
      "cell_type": "code",
      "source": [
        "winter_df.shape"
      ],
      "metadata": {
        "colab": {
          "base_uri": "https://localhost:8080/"
        },
        "id": "CbZP69-CjsSA",
        "outputId": "89791ec0-32d3-479c-fa45-660a01c859b4"
      },
      "execution_count": null,
      "outputs": [
        {
          "output_type": "execute_result",
          "data": {
            "text/plain": [
              "(48564, 13)"
            ]
          },
          "metadata": {},
          "execution_count": 11
        }
      ]
    },
    {
      "cell_type": "code",
      "source": [
        "winter_df.Season.unique()"
      ],
      "metadata": {
        "colab": {
          "base_uri": "https://localhost:8080/"
        },
        "id": "BTO_-4tLjuFO",
        "outputId": "6412b8e3-1a2e-4e8a-e1d3-731cf6d0940d"
      },
      "execution_count": null,
      "outputs": [
        {
          "output_type": "execute_result",
          "data": {
            "text/plain": [
              "array(['Winter'], dtype=object)"
            ]
          },
          "metadata": {},
          "execution_count": 12
        }
      ]
    },
    {
      "cell_type": "code",
      "source": [
        "winter_df.NOC.unique()"
      ],
      "metadata": {
        "colab": {
          "base_uri": "https://localhost:8080/"
        },
        "id": "p4dQiXZ1kEvX",
        "outputId": "4c2efd61-14e2-4c04-fb84-0e8e9c1c4cf9"
      },
      "execution_count": null,
      "outputs": [
        {
          "output_type": "execute_result",
          "data": {
            "text/plain": [
              "array(['NED', 'USA', 'FIN', 'NOR', 'EST', 'PAK', 'IRI', 'ITA', 'JPN',\n",
              "       'CAN', 'FRG', 'ARG', 'SWE', 'ISV', 'SUI', 'FRA', 'UKR', 'LAT',\n",
              "       'ESP', 'LIB', 'GEO', 'BLR', 'RUS', 'CRO', 'BUL', 'GER', 'POL',\n",
              "       'ROU', 'URS', 'AUS', 'GBR', 'TCH', 'CZE', 'GDR', 'KAZ', 'BEL',\n",
              "       'TOG', 'TUR', 'UZB', 'TTO', 'KOR', 'IND', 'MAR', 'DEN', 'AUT',\n",
              "       'YUG', 'MON', 'GRE', 'ARM', 'EUN', 'HUN', 'MGL', 'MEX', 'PUR',\n",
              "       'PRK', 'CHN', 'CHI', 'AZE', 'AND', 'BRA', 'BOL', 'NZL', 'LTU',\n",
              "       'CYP', 'ISL', 'SVK', 'BIH', 'MDA', 'TGA', 'GUM', 'IRL', 'SMR',\n",
              "       'SLO', 'LIE', 'ISR', 'ALG', 'POR', 'TPE', 'VEN', 'KEN', 'KGZ',\n",
              "       'RSA', 'JAM', 'GUA', 'MNE', 'SRB', 'NEP', 'CRC', 'PER', 'AHO',\n",
              "       'PHI', 'IVB', 'MKD', 'COL', 'DMA', 'SCG', 'TJK', 'EGY', 'SWZ',\n",
              "       'LUX', 'SEN', 'TLS', 'HKG', 'URU', 'IOA', 'ASA', 'PAR', 'ALB',\n",
              "       'CMR', 'BER', 'THA', 'GHA', 'HON', 'MLT', 'MAD', 'FIJ', 'ZIM',\n",
              "       'ETH', 'CAY'], dtype=object)"
            ]
          },
          "metadata": {},
          "execution_count": 13
        }
      ]
    },
    {
      "cell_type": "markdown",
      "source": [
        "### **Region Data**"
      ],
      "metadata": {
        "id": "cnjcIwp8j0nw"
      }
    },
    {
      "cell_type": "code",
      "source": [
        "region_df.dtypes"
      ],
      "metadata": {
        "colab": {
          "base_uri": "https://localhost:8080/"
        },
        "id": "3Jgx5KWQj2Nn",
        "outputId": "6063aee2-520e-4d59-a385-fa3a7d595855"
      },
      "execution_count": null,
      "outputs": [
        {
          "output_type": "execute_result",
          "data": {
            "text/plain": [
              "Unnamed: 0     int64\n",
              "NOC           object\n",
              "region        object\n",
              "notes         object\n",
              "dtype: object"
            ]
          },
          "metadata": {},
          "execution_count": 14
        }
      ]
    },
    {
      "cell_type": "code",
      "source": [
        "region_df.head()"
      ],
      "metadata": {
        "colab": {
          "base_uri": "https://localhost:8080/",
          "height": 206
        },
        "id": "SqYX1i_Oj-MP",
        "outputId": "19ff7983-07a0-46ea-9a09-a65134dd4f39"
      },
      "execution_count": null,
      "outputs": [
        {
          "output_type": "execute_result",
          "data": {
            "text/plain": [
              "   Unnamed: 0  NOC       region notes\n",
              "0           0  EOR      Refugee   NaN\n",
              "1           1  LBN      Lebanon   NaN\n",
              "2           2  SGP    Singapore   NaN\n",
              "3           3  ROC       Russia   NaN\n",
              "4           4  AFG  Afghanistan   NaN"
            ],
            "text/html": [
              "\n",
              "  <div id=\"df-2cdff764-844a-44c9-a2c4-396e346665d1\" class=\"colab-df-container\">\n",
              "    <div>\n",
              "<style scoped>\n",
              "    .dataframe tbody tr th:only-of-type {\n",
              "        vertical-align: middle;\n",
              "    }\n",
              "\n",
              "    .dataframe tbody tr th {\n",
              "        vertical-align: top;\n",
              "    }\n",
              "\n",
              "    .dataframe thead th {\n",
              "        text-align: right;\n",
              "    }\n",
              "</style>\n",
              "<table border=\"1\" class=\"dataframe\">\n",
              "  <thead>\n",
              "    <tr style=\"text-align: right;\">\n",
              "      <th></th>\n",
              "      <th>Unnamed: 0</th>\n",
              "      <th>NOC</th>\n",
              "      <th>region</th>\n",
              "      <th>notes</th>\n",
              "    </tr>\n",
              "  </thead>\n",
              "  <tbody>\n",
              "    <tr>\n",
              "      <th>0</th>\n",
              "      <td>0</td>\n",
              "      <td>EOR</td>\n",
              "      <td>Refugee</td>\n",
              "      <td>NaN</td>\n",
              "    </tr>\n",
              "    <tr>\n",
              "      <th>1</th>\n",
              "      <td>1</td>\n",
              "      <td>LBN</td>\n",
              "      <td>Lebanon</td>\n",
              "      <td>NaN</td>\n",
              "    </tr>\n",
              "    <tr>\n",
              "      <th>2</th>\n",
              "      <td>2</td>\n",
              "      <td>SGP</td>\n",
              "      <td>Singapore</td>\n",
              "      <td>NaN</td>\n",
              "    </tr>\n",
              "    <tr>\n",
              "      <th>3</th>\n",
              "      <td>3</td>\n",
              "      <td>ROC</td>\n",
              "      <td>Russia</td>\n",
              "      <td>NaN</td>\n",
              "    </tr>\n",
              "    <tr>\n",
              "      <th>4</th>\n",
              "      <td>4</td>\n",
              "      <td>AFG</td>\n",
              "      <td>Afghanistan</td>\n",
              "      <td>NaN</td>\n",
              "    </tr>\n",
              "  </tbody>\n",
              "</table>\n",
              "</div>\n",
              "    <div class=\"colab-df-buttons\">\n",
              "\n",
              "  <div class=\"colab-df-container\">\n",
              "    <button class=\"colab-df-convert\" onclick=\"convertToInteractive('df-2cdff764-844a-44c9-a2c4-396e346665d1')\"\n",
              "            title=\"Convert this dataframe to an interactive table.\"\n",
              "            style=\"display:none;\">\n",
              "\n",
              "  <svg xmlns=\"http://www.w3.org/2000/svg\" height=\"24px\" viewBox=\"0 -960 960 960\">\n",
              "    <path d=\"M120-120v-720h720v720H120Zm60-500h600v-160H180v160Zm220 220h160v-160H400v160Zm0 220h160v-160H400v160ZM180-400h160v-160H180v160Zm440 0h160v-160H620v160ZM180-180h160v-160H180v160Zm440 0h160v-160H620v160Z\"/>\n",
              "  </svg>\n",
              "    </button>\n",
              "\n",
              "  <style>\n",
              "    .colab-df-container {\n",
              "      display:flex;\n",
              "      gap: 12px;\n",
              "    }\n",
              "\n",
              "    .colab-df-convert {\n",
              "      background-color: #E8F0FE;\n",
              "      border: none;\n",
              "      border-radius: 50%;\n",
              "      cursor: pointer;\n",
              "      display: none;\n",
              "      fill: #1967D2;\n",
              "      height: 32px;\n",
              "      padding: 0 0 0 0;\n",
              "      width: 32px;\n",
              "    }\n",
              "\n",
              "    .colab-df-convert:hover {\n",
              "      background-color: #E2EBFA;\n",
              "      box-shadow: 0px 1px 2px rgba(60, 64, 67, 0.3), 0px 1px 3px 1px rgba(60, 64, 67, 0.15);\n",
              "      fill: #174EA6;\n",
              "    }\n",
              "\n",
              "    .colab-df-buttons div {\n",
              "      margin-bottom: 4px;\n",
              "    }\n",
              "\n",
              "    [theme=dark] .colab-df-convert {\n",
              "      background-color: #3B4455;\n",
              "      fill: #D2E3FC;\n",
              "    }\n",
              "\n",
              "    [theme=dark] .colab-df-convert:hover {\n",
              "      background-color: #434B5C;\n",
              "      box-shadow: 0px 1px 3px 1px rgba(0, 0, 0, 0.15);\n",
              "      filter: drop-shadow(0px 1px 2px rgba(0, 0, 0, 0.3));\n",
              "      fill: #FFFFFF;\n",
              "    }\n",
              "  </style>\n",
              "\n",
              "    <script>\n",
              "      const buttonEl =\n",
              "        document.querySelector('#df-2cdff764-844a-44c9-a2c4-396e346665d1 button.colab-df-convert');\n",
              "      buttonEl.style.display =\n",
              "        google.colab.kernel.accessAllowed ? 'block' : 'none';\n",
              "\n",
              "      async function convertToInteractive(key) {\n",
              "        const element = document.querySelector('#df-2cdff764-844a-44c9-a2c4-396e346665d1');\n",
              "        const dataTable =\n",
              "          await google.colab.kernel.invokeFunction('convertToInteractive',\n",
              "                                                    [key], {});\n",
              "        if (!dataTable) return;\n",
              "\n",
              "        const docLinkHtml = 'Like what you see? Visit the ' +\n",
              "          '<a target=\"_blank\" href=https://colab.research.google.com/notebooks/data_table.ipynb>data table notebook</a>'\n",
              "          + ' to learn more about interactive tables.';\n",
              "        element.innerHTML = '';\n",
              "        dataTable['output_type'] = 'display_data';\n",
              "        await google.colab.output.renderOutput(dataTable, element);\n",
              "        const docLink = document.createElement('div');\n",
              "        docLink.innerHTML = docLinkHtml;\n",
              "        element.appendChild(docLink);\n",
              "      }\n",
              "    </script>\n",
              "  </div>\n",
              "\n",
              "\n",
              "<div id=\"df-9d1b0d70-7a6a-47a5-81d3-0e00ae527c78\">\n",
              "  <button class=\"colab-df-quickchart\" onclick=\"quickchart('df-9d1b0d70-7a6a-47a5-81d3-0e00ae527c78')\"\n",
              "            title=\"Suggest charts.\"\n",
              "            style=\"display:none;\">\n",
              "\n",
              "<svg xmlns=\"http://www.w3.org/2000/svg\" height=\"24px\"viewBox=\"0 0 24 24\"\n",
              "     width=\"24px\">\n",
              "    <g>\n",
              "        <path d=\"M19 3H5c-1.1 0-2 .9-2 2v14c0 1.1.9 2 2 2h14c1.1 0 2-.9 2-2V5c0-1.1-.9-2-2-2zM9 17H7v-7h2v7zm4 0h-2V7h2v10zm4 0h-2v-4h2v4z\"/>\n",
              "    </g>\n",
              "</svg>\n",
              "  </button>\n",
              "\n",
              "<style>\n",
              "  .colab-df-quickchart {\n",
              "      --bg-color: #E8F0FE;\n",
              "      --fill-color: #1967D2;\n",
              "      --hover-bg-color: #E2EBFA;\n",
              "      --hover-fill-color: #174EA6;\n",
              "      --disabled-fill-color: #AAA;\n",
              "      --disabled-bg-color: #DDD;\n",
              "  }\n",
              "\n",
              "  [theme=dark] .colab-df-quickchart {\n",
              "      --bg-color: #3B4455;\n",
              "      --fill-color: #D2E3FC;\n",
              "      --hover-bg-color: #434B5C;\n",
              "      --hover-fill-color: #FFFFFF;\n",
              "      --disabled-bg-color: #3B4455;\n",
              "      --disabled-fill-color: #666;\n",
              "  }\n",
              "\n",
              "  .colab-df-quickchart {\n",
              "    background-color: var(--bg-color);\n",
              "    border: none;\n",
              "    border-radius: 50%;\n",
              "    cursor: pointer;\n",
              "    display: none;\n",
              "    fill: var(--fill-color);\n",
              "    height: 32px;\n",
              "    padding: 0;\n",
              "    width: 32px;\n",
              "  }\n",
              "\n",
              "  .colab-df-quickchart:hover {\n",
              "    background-color: var(--hover-bg-color);\n",
              "    box-shadow: 0 1px 2px rgba(60, 64, 67, 0.3), 0 1px 3px 1px rgba(60, 64, 67, 0.15);\n",
              "    fill: var(--button-hover-fill-color);\n",
              "  }\n",
              "\n",
              "  .colab-df-quickchart-complete:disabled,\n",
              "  .colab-df-quickchart-complete:disabled:hover {\n",
              "    background-color: var(--disabled-bg-color);\n",
              "    fill: var(--disabled-fill-color);\n",
              "    box-shadow: none;\n",
              "  }\n",
              "\n",
              "  .colab-df-spinner {\n",
              "    border: 2px solid var(--fill-color);\n",
              "    border-color: transparent;\n",
              "    border-bottom-color: var(--fill-color);\n",
              "    animation:\n",
              "      spin 1s steps(1) infinite;\n",
              "  }\n",
              "\n",
              "  @keyframes spin {\n",
              "    0% {\n",
              "      border-color: transparent;\n",
              "      border-bottom-color: var(--fill-color);\n",
              "      border-left-color: var(--fill-color);\n",
              "    }\n",
              "    20% {\n",
              "      border-color: transparent;\n",
              "      border-left-color: var(--fill-color);\n",
              "      border-top-color: var(--fill-color);\n",
              "    }\n",
              "    30% {\n",
              "      border-color: transparent;\n",
              "      border-left-color: var(--fill-color);\n",
              "      border-top-color: var(--fill-color);\n",
              "      border-right-color: var(--fill-color);\n",
              "    }\n",
              "    40% {\n",
              "      border-color: transparent;\n",
              "      border-right-color: var(--fill-color);\n",
              "      border-top-color: var(--fill-color);\n",
              "    }\n",
              "    60% {\n",
              "      border-color: transparent;\n",
              "      border-right-color: var(--fill-color);\n",
              "    }\n",
              "    80% {\n",
              "      border-color: transparent;\n",
              "      border-right-color: var(--fill-color);\n",
              "      border-bottom-color: var(--fill-color);\n",
              "    }\n",
              "    90% {\n",
              "      border-color: transparent;\n",
              "      border-bottom-color: var(--fill-color);\n",
              "    }\n",
              "  }\n",
              "</style>\n",
              "\n",
              "  <script>\n",
              "    async function quickchart(key) {\n",
              "      const quickchartButtonEl =\n",
              "        document.querySelector('#' + key + ' button');\n",
              "      quickchartButtonEl.disabled = true;  // To prevent multiple clicks.\n",
              "      quickchartButtonEl.classList.add('colab-df-spinner');\n",
              "      try {\n",
              "        const charts = await google.colab.kernel.invokeFunction(\n",
              "            'suggestCharts', [key], {});\n",
              "      } catch (error) {\n",
              "        console.error('Error during call to suggestCharts:', error);\n",
              "      }\n",
              "      quickchartButtonEl.classList.remove('colab-df-spinner');\n",
              "      quickchartButtonEl.classList.add('colab-df-quickchart-complete');\n",
              "    }\n",
              "    (() => {\n",
              "      let quickchartButtonEl =\n",
              "        document.querySelector('#df-9d1b0d70-7a6a-47a5-81d3-0e00ae527c78 button');\n",
              "      quickchartButtonEl.style.display =\n",
              "        google.colab.kernel.accessAllowed ? 'block' : 'none';\n",
              "    })();\n",
              "  </script>\n",
              "</div>\n",
              "    </div>\n",
              "  </div>\n"
            ]
          },
          "metadata": {},
          "execution_count": 15
        }
      ]
    },
    {
      "cell_type": "markdown",
      "source": [
        "### **Concat both summer and winter data**"
      ],
      "metadata": {
        "id": "QtObv0vRkKTp"
      }
    },
    {
      "cell_type": "code",
      "source": [
        "data_df =  pd.concat([summer_df, winter_df])\n",
        "data_df.shape"
      ],
      "metadata": {
        "colab": {
          "base_uri": "https://localhost:8080/"
        },
        "id": "NiZJY-5TkNy3",
        "outputId": "df6a7f21-f97d-42f1-ff0c-85536b34bb03"
      },
      "execution_count": null,
      "outputs": [
        {
          "output_type": "execute_result",
          "data": {
            "text/plain": [
              "(286237, 13)"
            ]
          },
          "metadata": {},
          "execution_count": 76
        }
      ]
    },
    {
      "cell_type": "code",
      "source": [
        "data_df.dtypes"
      ],
      "metadata": {
        "colab": {
          "base_uri": "https://localhost:8080/"
        },
        "id": "G1WvmbEakPfu",
        "outputId": "181275b4-4a92-4c74-f589-0f8f4af71e38"
      },
      "execution_count": null,
      "outputs": [
        {
          "output_type": "execute_result",
          "data": {
            "text/plain": [
              "Unnamed: 0      int64\n",
              "Name           object\n",
              "Sex            object\n",
              "Age           float64\n",
              "Team           object\n",
              "NOC            object\n",
              "Games          object\n",
              "Year            int64\n",
              "Season         object\n",
              "City           object\n",
              "Sport          object\n",
              "Event          object\n",
              "Medal          object\n",
              "dtype: object"
            ]
          },
          "metadata": {},
          "execution_count": 77
        }
      ]
    },
    {
      "cell_type": "code",
      "source": [
        "top_10_countries=data_df['Team'].value_counts().nlargest(10)\n",
        "top_10_countries"
      ],
      "metadata": {
        "colab": {
          "base_uri": "https://localhost:8080/"
        },
        "id": "Yf1AvEBbuQpw",
        "outputId": "ce24ab36-63ce-46cc-a795-dce4c1aa7d20"
      },
      "execution_count": null,
      "outputs": [
        {
          "output_type": "execute_result",
          "data": {
            "text/plain": [
              "United States    18703\n",
              "France           12526\n",
              "Great Britain    11952\n",
              "Italy            10784\n",
              "Germany           9923\n",
              "Canada            9788\n",
              "Japan             9076\n",
              "Sweden            8225\n",
              "Australia         8151\n",
              "Hungary           6784\n",
              "Name: Team, dtype: int64"
            ]
          },
          "metadata": {},
          "execution_count": 78
        }
      ]
    },
    {
      "cell_type": "code",
      "source": [
        "# plot for top 10 countries\n",
        "plt.figure(figsize=(12,6))\n",
        "sns.barplot(x = top_10_countries.index,y = top_10_countries)\n",
        "plt.xlabel('Teams')\n",
        "plt.ylabel('Count of Team Participation')\n",
        "plt.title('Top 10 Countries Participated In Olympics')\n",
        "plt.show()"
      ],
      "metadata": {
        "colab": {
          "base_uri": "https://localhost:8080/",
          "height": 564
        },
        "id": "jeH-cKzNuzdW",
        "outputId": "79998024-6764-4633-b720-bbd6157c6ff2"
      },
      "execution_count": null,
      "outputs": [
        {
          "output_type": "display_data",
          "data": {
            "text/plain": [
              "<Figure size 1200x600 with 1 Axes>"
            ],
            "image/png": "[encoded data removed]"
          },
          "metadata": {}
        }
      ]
    },
    {
      "cell_type": "markdown",
      "source": [
        "### **Age Distribution of the Participants**"
      ],
      "metadata": {
        "id": "_gv8qXNCvXse"
      }
    },
    {
      "cell_type": "code",
      "source": [
        "# Age distribution of the participants\n",
        "plt.figure(figsize=(12,6))\n",
        "sns.histplot(data_df.Age)\n",
        "plt.xlabel('Age')\n",
        "plt.title('Age Distribution')\n",
        "plt.show()"
      ],
      "metadata": {
        "colab": {
          "base_uri": "https://localhost:8080/",
          "height": 564
        },
        "id": "sdgZvc6UvHg1",
        "outputId": "0a6b3c23-1776-425b-a831-4c5361d1170a"
      },
      "execution_count": null,
      "outputs": [
        {
          "output_type": "display_data",
          "data": {
            "text/plain": [
              "<Figure size 1200x600 with 1 Axes>"
            ],
            "image/png": "[encoded data removed]"
          },
          "metadata": {}
        }
      ]
    },
    {
      "cell_type": "markdown",
      "source": [
        "**So, Most number of athletes are between 20 to 40 years of age**"
      ],
      "metadata": {
        "id": "onedkvqivhXH"
      }
    },
    {
      "cell_type": "markdown",
      "source": [
        "###**Merging region with data_df**"
      ],
      "metadata": {
        "id": "LXqGqMiIAncG"
      }
    },
    {
      "cell_type": "code",
      "source": [
        "df_merged=data_df.merge(region_df,on='NOC',how='left')\n"
      ],
      "metadata": {
        "id": "SnLU1_SvAvMC"
      },
      "execution_count": null,
      "outputs": []
    },
    {
      "cell_type": "markdown",
      "source": [
        "**Total Teams,Regions, Events in Summer Olympics and Winter Olympics**"
      ],
      "metadata": {
        "id": "-3BhzaiPwMw6"
      }
    },
    {
      "cell_type": "code",
      "source": [
        "total_count=data_df.groupby('Season')[[\"Team\",\"NOC\",\"Event\",\"City\",\"Sport\"]].nunique().reset_index()\n",
        "total_count"
      ],
      "metadata": {
        "colab": {
          "base_uri": "https://localhost:8080/",
          "height": 112
        },
        "id": "CIPHFUQFxp8r",
        "outputId": "4e6a6b2d-d101-479b-bd6b-c33773edbe0c"
      },
      "execution_count": null,
      "outputs": [
        {
          "output_type": "execute_result",
          "data": {
            "text/plain": [
              "   Season  Team  NOC  Event  City  Sport\n",
              "0  Summer  1169  233    957    23     70\n",
              "1  Winter   221  119    119    19     17"
            ],
            "text/html": [
              "\n",
              "  <div id=\"df-1a64e22f-ed0a-490c-92a8-e27f05e096d6\" class=\"colab-df-container\">\n",
              "    <div>\n",
              "<style scoped>\n",
              "    .dataframe tbody tr th:only-of-type {\n",
              "        vertical-align: middle;\n",
              "    }\n",
              "\n",
              "    .dataframe tbody tr th {\n",
              "        vertical-align: top;\n",
              "    }\n",
              "\n",
              "    .dataframe thead th {\n",
              "        text-align: right;\n",
              "    }\n",
              "</style>\n",
              "<table border=\"1\" class=\"dataframe\">\n",
              "  <thead>\n",
              "    <tr style=\"text-align: right;\">\n",
              "      <th></th>\n",
              "      <th>Season</th>\n",
              "      <th>Team</th>\n",
              "      <th>NOC</th>\n",
              "      <th>Event</th>\n",
              "      <th>City</th>\n",
              "      <th>Sport</th>\n",
              "    </tr>\n",
              "  </thead>\n",
              "  <tbody>\n",
              "    <tr>\n",
              "      <th>0</th>\n",
              "      <td>Summer</td>\n",
              "      <td>1169</td>\n",
              "      <td>233</td>\n",
              "      <td>957</td>\n",
              "      <td>23</td>\n",
              "      <td>70</td>\n",
              "    </tr>\n",
              "    <tr>\n",
              "      <th>1</th>\n",
              "      <td>Winter</td>\n",
              "      <td>221</td>\n",
              "      <td>119</td>\n",
              "      <td>119</td>\n",
              "      <td>19</td>\n",
              "      <td>17</td>\n",
              "    </tr>\n",
              "  </tbody>\n",
              "</table>\n",
              "</div>\n",
              "    <div class=\"colab-df-buttons\">\n",
              "\n",
              "  <div class=\"colab-df-container\">\n",
              "    <button class=\"colab-df-convert\" onclick=\"convertToInteractive('df-1a64e22f-ed0a-490c-92a8-e27f05e096d6')\"\n",
              "            title=\"Convert this dataframe to an interactive table.\"\n",
              "            style=\"display:none;\">\n",
              "\n",
              "  <svg xmlns=\"http://www.w3.org/2000/svg\" height=\"24px\" viewBox=\"0 -960 960 960\">\n",
              "    <path d=\"M120-120v-720h720v720H120Zm60-500h600v-160H180v160Zm220 220h160v-160H400v160Zm0 220h160v-160H400v160ZM180-400h160v-160H180v160Zm440 0h160v-160H620v160ZM180-180h160v-160H180v160Zm440 0h160v-160H620v160Z\"/>\n",
              "  </svg>\n",
              "    </button>\n",
              "\n",
              "  <style>\n",
              "    .colab-df-container {\n",
              "      display:flex;\n",
              "      gap: 12px;\n",
              "    }\n",
              "\n",
              "    .colab-df-convert {\n",
              "      background-color: #E8F0FE;\n",
              "      border: none;\n",
              "      border-radius: 50%;\n",
              "      cursor: pointer;\n",
              "      display: none;\n",
              "      fill: #1967D2;\n",
              "      height: 32px;\n",
              "      padding: 0 0 0 0;\n",
              "      width: 32px;\n",
              "    }\n",
              "\n",
              "    .colab-df-convert:hover {\n",
              "      background-color: #E2EBFA;\n",
              "      box-shadow: 0px 1px 2px rgba(60, 64, 67, 0.3), 0px 1px 3px 1px rgba(60, 64, 67, 0.15);\n",
              "      fill: #174EA6;\n",
              "    }\n",
              "\n",
              "    .colab-df-buttons div {\n",
              "      margin-bottom: 4px;\n",
              "    }\n",
              "\n",
              "    [theme=dark] .colab-df-convert {\n",
              "      background-color: #3B4455;\n",
              "      fill: #D2E3FC;\n",
              "    }\n",
              "\n",
              "    [theme=dark] .colab-df-convert:hover {\n",
              "      background-color: #434B5C;\n",
              "      box-shadow: 0px 1px 3px 1px rgba(0, 0, 0, 0.15);\n",
              "      filter: drop-shadow(0px 1px 2px rgba(0, 0, 0, 0.3));\n",
              "      fill: #FFFFFF;\n",
              "    }\n",
              "  </style>\n",
              "\n",
              "    <script>\n",
              "      const buttonEl =\n",
              "        document.querySelector('#df-1a64e22f-ed0a-490c-92a8-e27f05e096d6 button.colab-df-convert');\n",
              "      buttonEl.style.display =\n",
              "        google.colab.kernel.accessAllowed ? 'block' : 'none';\n",
              "\n",
              "      async function convertToInteractive(key) {\n",
              "        const element = document.querySelector('#df-1a64e22f-ed0a-490c-92a8-e27f05e096d6');\n",
              "        const dataTable =\n",
              "          await google.colab.kernel.invokeFunction('convertToInteractive',\n",
              "                                                    [key], {});\n",
              "        if (!dataTable) return;\n",
              "\n",
              "        const docLinkHtml = 'Like what you see? Visit the ' +\n",
              "          '<a target=\"_blank\" href=https://colab.research.google.com/notebooks/data_table.ipynb>data table notebook</a>'\n",
              "          + ' to learn more about interactive tables.';\n",
              "        element.innerHTML = '';\n",
              "        dataTable['output_type'] = 'display_data';\n",
              "        await google.colab.output.renderOutput(dataTable, element);\n",
              "        const docLink = document.createElement('div');\n",
              "        docLink.innerHTML = docLinkHtml;\n",
              "        element.appendChild(docLink);\n",
              "      }\n",
              "    </script>\n",
              "  </div>\n",
              "\n",
              "\n",
              "<div id=\"df-8e73e663-d9a4-4189-a07c-ac3e1d22e748\">\n",
              "  <button class=\"colab-df-quickchart\" onclick=\"quickchart('df-8e73e663-d9a4-4189-a07c-ac3e1d22e748')\"\n",
              "            title=\"Suggest charts.\"\n",
              "            style=\"display:none;\">\n",
              "\n",
              "<svg xmlns=\"http://www.w3.org/2000/svg\" height=\"24px\"viewBox=\"0 0 24 24\"\n",
              "     width=\"24px\">\n",
              "    <g>\n",
              "        <path d=\"M19 3H5c-1.1 0-2 .9-2 2v14c0 1.1.9 2 2 2h14c1.1 0 2-.9 2-2V5c0-1.1-.9-2-2-2zM9 17H7v-7h2v7zm4 0h-2V7h2v10zm4 0h-2v-4h2v4z\"/>\n",
              "    </g>\n",
              "</svg>\n",
              "  </button>\n",
              "\n",
              "<style>\n",
              "  .colab-df-quickchart {\n",
              "      --bg-color: #E8F0FE;\n",
              "      --fill-color: #1967D2;\n",
              "      --hover-bg-color: #E2EBFA;\n",
              "      --hover-fill-color: #174EA6;\n",
              "      --disabled-fill-color: #AAA;\n",
              "      --disabled-bg-color: #DDD;\n",
              "  }\n",
              "\n",
              "  [theme=dark] .colab-df-quickchart {\n",
              "      --bg-color: #3B4455;\n",
              "      --fill-color: #D2E3FC;\n",
              "      --hover-bg-color: #434B5C;\n",
              "      --hover-fill-color: #FFFFFF;\n",
              "      --disabled-bg-color: #3B4455;\n",
              "      --disabled-fill-color: #666;\n",
              "  }\n",
              "\n",
              "  .colab-df-quickchart {\n",
              "    background-color: var(--bg-color);\n",
              "    border: none;\n",
              "    border-radius: 50%;\n",
              "    cursor: pointer;\n",
              "    display: none;\n",
              "    fill: var(--fill-color);\n",
              "    height: 32px;\n",
              "    padding: 0;\n",
              "    width: 32px;\n",
              "  }\n",
              "\n",
              "  .colab-df-quickchart:hover {\n",
              "    background-color: var(--hover-bg-color);\n",
              "    box-shadow: 0 1px 2px rgba(60, 64, 67, 0.3), 0 1px 3px 1px rgba(60, 64, 67, 0.15);\n",
              "    fill: var(--button-hover-fill-color);\n",
              "  }\n",
              "\n",
              "  .colab-df-quickchart-complete:disabled,\n",
              "  .colab-df-quickchart-complete:disabled:hover {\n",
              "    background-color: var(--disabled-bg-color);\n",
              "    fill: var(--disabled-fill-color);\n",
              "    box-shadow: none;\n",
              "  }\n",
              "\n",
              "  .colab-df-spinner {\n",
              "    border: 2px solid var(--fill-color);\n",
              "    border-color: transparent;\n",
              "    border-bottom-color: var(--fill-color);\n",
              "    animation:\n",
              "      spin 1s steps(1) infinite;\n",
              "  }\n",
              "\n",
              "  @keyframes spin {\n",
              "    0% {\n",
              "      border-color: transparent;\n",
              "      border-bottom-color: var(--fill-color);\n",
              "      border-left-color: var(--fill-color);\n",
              "    }\n",
              "    20% {\n",
              "      border-color: transparent;\n",
              "      border-left-color: var(--fill-color);\n",
              "      border-top-color: var(--fill-color);\n",
              "    }\n",
              "    30% {\n",
              "      border-color: transparent;\n",
              "      border-left-color: var(--fill-color);\n",
              "      border-top-color: var(--fill-color);\n",
              "      border-right-color: var(--fill-color);\n",
              "    }\n",
              "    40% {\n",
              "      border-color: transparent;\n",
              "      border-right-color: var(--fill-color);\n",
              "      border-top-color: var(--fill-color);\n",
              "    }\n",
              "    60% {\n",
              "      border-color: transparent;\n",
              "      border-right-color: var(--fill-color);\n",
              "    }\n",
              "    80% {\n",
              "      border-color: transparent;\n",
              "      border-right-color: var(--fill-color);\n",
              "      border-bottom-color: var(--fill-color);\n",
              "    }\n",
              "    90% {\n",
              "      border-color: transparent;\n",
              "      border-bottom-color: var(--fill-color);\n",
              "    }\n",
              "  }\n",
              "</style>\n",
              "\n",
              "  <script>\n",
              "    async function quickchart(key) {\n",
              "      const quickchartButtonEl =\n",
              "        document.querySelector('#' + key + ' button');\n",
              "      quickchartButtonEl.disabled = true;  // To prevent multiple clicks.\n",
              "      quickchartButtonEl.classList.add('colab-df-spinner');\n",
              "      try {\n",
              "        const charts = await google.colab.kernel.invokeFunction(\n",
              "            'suggestCharts', [key], {});\n",
              "      } catch (error) {\n",
              "        console.error('Error during call to suggestCharts:', error);\n",
              "      }\n",
              "      quickchartButtonEl.classList.remove('colab-df-spinner');\n",
              "      quickchartButtonEl.classList.add('colab-df-quickchart-complete');\n",
              "    }\n",
              "    (() => {\n",
              "      let quickchartButtonEl =\n",
              "        document.querySelector('#df-8e73e663-d9a4-4189-a07c-ac3e1d22e748 button');\n",
              "      quickchartButtonEl.style.display =\n",
              "        google.colab.kernel.accessAllowed ? 'block' : 'none';\n",
              "    })();\n",
              "  </script>\n",
              "</div>\n",
              "    </div>\n",
              "  </div>\n"
            ]
          },
          "metadata": {},
          "execution_count": 85
        }
      ]
    },
    {
      "cell_type": "code",
      "source": [
        "tidy = total_count.melt(id_vars='Season').rename(columns=str.title)\n",
        "\n",
        "plt.subplots(figsize=(12, 6))\n",
        "sns.barplot(x='Season', y='Value', hue='Variable', data=tidy)\n",
        "plt.title('Total Count In Different Season')\n",
        "plt.ylabel(\"Athelete count\")\n",
        "plt.show()"
      ],
      "metadata": {
        "colab": {
          "base_uri": "https://localhost:8080/",
          "height": 564
        },
        "id": "dhmXx6-cySkE",
        "outputId": "41a23bf3-65b2-4fb0-e540-18bdb9e2d2b6"
      },
      "execution_count": null,
      "outputs": [
        {
          "output_type": "display_data",
          "data": {
            "text/plain": [
              "<Figure size 1200x600 with 1 Axes>"
            ],
            "image/png": "[encoded data removed]"
          },
          "metadata": {}
        }
      ]
    },
    {
      "cell_type": "markdown",
      "source": [
        "### **Clean Data**"
      ],
      "metadata": {
        "id": "5QqgiQiqkTPS"
      }
    },
    {
      "cell_type": "code",
      "source": [
        "columns_to_keep = [\"Sex\",\"Age\",\"Team\",\"NOC\",\"Season\",\"City\",\"Sport\",\"Event\", \"Medal\"]\n",
        "data_df = data_df.loc[:,columns_to_keep]\n",
        "data_df.shape"
      ],
      "metadata": {
        "colab": {
          "base_uri": "https://localhost:8080/"
        },
        "id": "CF2k-cvQkUTL",
        "outputId": "d10fadb2-77b0-45d6-dc91-b4ab4b828ccb"
      },
      "execution_count": null,
      "outputs": [
        {
          "output_type": "execute_result",
          "data": {
            "text/plain": [
              "(286237, 9)"
            ]
          },
          "metadata": {},
          "execution_count": 18
        }
      ]
    },
    {
      "cell_type": "code",
      "source": [
        "data_df.dtypes\n"
      ],
      "metadata": {
        "colab": {
          "base_uri": "https://localhost:8080/"
        },
        "id": "LkQ4AQ_FkWaD",
        "outputId": "1512c712-e766-4147-aee2-dfb712e704d1"
      },
      "execution_count": null,
      "outputs": [
        {
          "output_type": "execute_result",
          "data": {
            "text/plain": [
              "Sex        object\n",
              "Age       float64\n",
              "Team       object\n",
              "NOC        object\n",
              "Season     object\n",
              "City       object\n",
              "Sport      object\n",
              "Event      object\n",
              "Medal      object\n",
              "dtype: object"
            ]
          },
          "metadata": {},
          "execution_count": 19
        }
      ]
    },
    {
      "cell_type": "code",
      "source": [
        "data_df.head()"
      ],
      "metadata": {
        "colab": {
          "base_uri": "https://localhost:8080/",
          "height": 206
        },
        "id": "xgCjdhAakYT9",
        "outputId": "31ae0d35-f2ea-4199-91b2-c7fe6cd7dcc2"
      },
      "execution_count": null,
      "outputs": [
        {
          "output_type": "execute_result",
          "data": {
            "text/plain": [
              "  Sex   Age            Team  NOC  Season         City       Sport  \\\n",
              "0   M  24.0           China  CHN  Summer    Barcelona  Basketball   \n",
              "1   M  23.0           China  CHN  Summer       London        Judo   \n",
              "2   M  24.0         Denmark  DEN  Summer    Antwerpen    Football   \n",
              "3   M  34.0  Denmark/Sweden  DEN  Summer        Paris  Tug-Of-War   \n",
              "4   F  18.0     Netherlands  NED  Summer  Los Angeles   Athletics   \n",
              "\n",
              "                          Event Medal  \n",
              "0   Basketball Men's Basketball   NaN  \n",
              "1  Judo Men's Extra-Lightweight   NaN  \n",
              "2       Football Men's Football   NaN  \n",
              "3   Tug-Of-War Men's Tug-Of-War  Gold  \n",
              "4  Athletics Women's 100 metres   NaN  "
            ],
            "text/html": [
              "\n",
              "  <div id=\"df-480ea9f6-970f-42bd-81ce-a77f0703ec04\" class=\"colab-df-container\">\n",
              "    <div>\n",
              "<style scoped>\n",
              "    .dataframe tbody tr th:only-of-type {\n",
              "        vertical-align: middle;\n",
              "    }\n",
              "\n",
              "    .dataframe tbody tr th {\n",
              "        vertical-align: top;\n",
              "    }\n",
              "\n",
              "    .dataframe thead th {\n",
              "        text-align: right;\n",
              "    }\n",
              "</style>\n",
              "<table border=\"1\" class=\"dataframe\">\n",
              "  <thead>\n",
              "    <tr style=\"text-align: right;\">\n",
              "      <th></th>\n",
              "      <th>Sex</th>\n",
              "      <th>Age</th>\n",
              "      <th>Team</th>\n",
              "      <th>NOC</th>\n",
              "      <th>Season</th>\n",
              "      <th>City</th>\n",
              "      <th>Sport</th>\n",
              "      <th>Event</th>\n",
              "      <th>Medal</th>\n",
              "    </tr>\n",
              "  </thead>\n",
              "  <tbody>\n",
              "    <tr>\n",
              "      <th>0</th>\n",
              "      <td>M</td>\n",
              "      <td>24.0</td>\n",
              "      <td>China</td>\n",
              "      <td>CHN</td>\n",
              "      <td>Summer</td>\n",
              "      <td>Barcelona</td>\n",
              "      <td>Basketball</td>\n",
              "      <td>Basketball Men's Basketball</td>\n",
              "      <td>NaN</td>\n",
              "    </tr>\n",
              "    <tr>\n",
              "      <th>1</th>\n",
              "      <td>M</td>\n",
              "      <td>23.0</td>\n",
              "      <td>China</td>\n",
              "      <td>CHN</td>\n",
              "      <td>Summer</td>\n",
              "      <td>London</td>\n",
              "      <td>Judo</td>\n",
              "      <td>Judo Men's Extra-Lightweight</td>\n",
              "      <td>NaN</td>\n",
              "    </tr>\n",
              "    <tr>\n",
              "      <th>2</th>\n",
              "      <td>M</td>\n",
              "      <td>24.0</td>\n",
              "      <td>Denmark</td>\n",
              "      <td>DEN</td>\n",
              "      <td>Summer</td>\n",
              "      <td>Antwerpen</td>\n",
              "      <td>Football</td>\n",
              "      <td>Football Men's Football</td>\n",
              "      <td>NaN</td>\n",
              "    </tr>\n",
              "    <tr>\n",
              "      <th>3</th>\n",
              "      <td>M</td>\n",
              "      <td>34.0</td>\n",
              "      <td>Denmark/Sweden</td>\n",
              "      <td>DEN</td>\n",
              "      <td>Summer</td>\n",
              "      <td>Paris</td>\n",
              "      <td>Tug-Of-War</td>\n",
              "      <td>Tug-Of-War Men's Tug-Of-War</td>\n",
              "      <td>Gold</td>\n",
              "    </tr>\n",
              "    <tr>\n",
              "      <th>4</th>\n",
              "      <td>F</td>\n",
              "      <td>18.0</td>\n",
              "      <td>Netherlands</td>\n",
              "      <td>NED</td>\n",
              "      <td>Summer</td>\n",
              "      <td>Los Angeles</td>\n",
              "      <td>Athletics</td>\n",
              "      <td>Athletics Women's 100 metres</td>\n",
              "      <td>NaN</td>\n",
              "    </tr>\n",
              "  </tbody>\n",
              "</table>\n",
              "</div>\n",
              "    <div class=\"colab-df-buttons\">\n",
              "\n",
              "  <div class=\"colab-df-container\">\n",
              "    <button class=\"colab-df-convert\" onclick=\"convertToInteractive('df-480ea9f6-970f-42bd-81ce-a77f0703ec04')\"\n",
              "            title=\"Convert this dataframe to an interactive table.\"\n",
              "            style=\"display:none;\">\n",
              "\n",
              "  <svg xmlns=\"http://www.w3.org/2000/svg\" height=\"24px\" viewBox=\"0 -960 960 960\">\n",
              "    <path d=\"M120-120v-720h720v720H120Zm60-500h600v-160H180v160Zm220 220h160v-160H400v160Zm0 220h160v-160H400v160ZM180-400h160v-160H180v160Zm440 0h160v-160H620v160ZM180-180h160v-160H180v160Zm440 0h160v-160H620v160Z\"/>\n",
              "  </svg>\n",
              "    </button>\n",
              "\n",
              "  <style>\n",
              "    .colab-df-container {\n",
              "      display:flex;\n",
              "      gap: 12px;\n",
              "    }\n",
              "\n",
              "    .colab-df-convert {\n",
              "      background-color: #E8F0FE;\n",
              "      border: none;\n",
              "      border-radius: 50%;\n",
              "      cursor: pointer;\n",
              "      display: none;\n",
              "      fill: #1967D2;\n",
              "      height: 32px;\n",
              "      padding: 0 0 0 0;\n",
              "      width: 32px;\n",
              "    }\n",
              "\n",
              "    .colab-df-convert:hover {\n",
              "      background-color: #E2EBFA;\n",
              "      box-shadow: 0px 1px 2px rgba(60, 64, 67, 0.3), 0px 1px 3px 1px rgba(60, 64, 67, 0.15);\n",
              "      fill: #174EA6;\n",
              "    }\n",
              "\n",
              "    .colab-df-buttons div {\n",
              "      margin-bottom: 4px;\n",
              "    }\n",
              "\n",
              "    [theme=dark] .colab-df-convert {\n",
              "      background-color: #3B4455;\n",
              "      fill: #D2E3FC;\n",
              "    }\n",
              "\n",
              "    [theme=dark] .colab-df-convert:hover {\n",
              "      background-color: #434B5C;\n",
              "      box-shadow: 0px 1px 3px 1px rgba(0, 0, 0, 0.15);\n",
              "      filter: drop-shadow(0px 1px 2px rgba(0, 0, 0, 0.3));\n",
              "      fill: #FFFFFF;\n",
              "    }\n",
              "  </style>\n",
              "\n",
              "    <script>\n",
              "      const buttonEl =\n",
              "        document.querySelector('#df-480ea9f6-970f-42bd-81ce-a77f0703ec04 button.colab-df-convert');\n",
              "      buttonEl.style.display =\n",
              "        google.colab.kernel.accessAllowed ? 'block' : 'none';\n",
              "\n",
              "      async function convertToInteractive(key) {\n",
              "        const element = document.querySelector('#df-480ea9f6-970f-42bd-81ce-a77f0703ec04');\n",
              "        const dataTable =\n",
              "          await google.colab.kernel.invokeFunction('convertToInteractive',\n",
              "                                                    [key], {});\n",
              "        if (!dataTable) return;\n",
              "\n",
              "        const docLinkHtml = 'Like what you see? Visit the ' +\n",
              "          '<a target=\"_blank\" href=https://colab.research.google.com/notebooks/data_table.ipynb>data table notebook</a>'\n",
              "          + ' to learn more about interactive tables.';\n",
              "        element.innerHTML = '';\n",
              "        dataTable['output_type'] = 'display_data';\n",
              "        await google.colab.output.renderOutput(dataTable, element);\n",
              "        const docLink = document.createElement('div');\n",
              "        docLink.innerHTML = docLinkHtml;\n",
              "        element.appendChild(docLink);\n",
              "      }\n",
              "    </script>\n",
              "  </div>\n",
              "\n",
              "\n",
              "<div id=\"df-8746847e-204c-45b7-869b-6030e02cdddc\">\n",
              "  <button class=\"colab-df-quickchart\" onclick=\"quickchart('df-8746847e-204c-45b7-869b-6030e02cdddc')\"\n",
              "            title=\"Suggest charts.\"\n",
              "            style=\"display:none;\">\n",
              "\n",
              "<svg xmlns=\"http://www.w3.org/2000/svg\" height=\"24px\"viewBox=\"0 0 24 24\"\n",
              "     width=\"24px\">\n",
              "    <g>\n",
              "        <path d=\"M19 3H5c-1.1 0-2 .9-2 2v14c0 1.1.9 2 2 2h14c1.1 0 2-.9 2-2V5c0-1.1-.9-2-2-2zM9 17H7v-7h2v7zm4 0h-2V7h2v10zm4 0h-2v-4h2v4z\"/>\n",
              "    </g>\n",
              "</svg>\n",
              "  </button>\n",
              "\n",
              "<style>\n",
              "  .colab-df-quickchart {\n",
              "      --bg-color: #E8F0FE;\n",
              "      --fill-color: #1967D2;\n",
              "      --hover-bg-color: #E2EBFA;\n",
              "      --hover-fill-color: #174EA6;\n",
              "      --disabled-fill-color: #AAA;\n",
              "      --disabled-bg-color: #DDD;\n",
              "  }\n",
              "\n",
              "  [theme=dark] .colab-df-quickchart {\n",
              "      --bg-color: #3B4455;\n",
              "      --fill-color: #D2E3FC;\n",
              "      --hover-bg-color: #434B5C;\n",
              "      --hover-fill-color: #FFFFFF;\n",
              "      --disabled-bg-color: #3B4455;\n",
              "      --disabled-fill-color: #666;\n",
              "  }\n",
              "\n",
              "  .colab-df-quickchart {\n",
              "    background-color: var(--bg-color);\n",
              "    border: none;\n",
              "    border-radius: 50%;\n",
              "    cursor: pointer;\n",
              "    display: none;\n",
              "    fill: var(--fill-color);\n",
              "    height: 32px;\n",
              "    padding: 0;\n",
              "    width: 32px;\n",
              "  }\n",
              "\n",
              "  .colab-df-quickchart:hover {\n",
              "    background-color: var(--hover-bg-color);\n",
              "    box-shadow: 0 1px 2px rgba(60, 64, 67, 0.3), 0 1px 3px 1px rgba(60, 64, 67, 0.15);\n",
              "    fill: var(--button-hover-fill-color);\n",
              "  }\n",
              "\n",
              "  .colab-df-quickchart-complete:disabled,\n",
              "  .colab-df-quickchart-complete:disabled:hover {\n",
              "    background-color: var(--disabled-bg-color);\n",
              "    fill: var(--disabled-fill-color);\n",
              "    box-shadow: none;\n",
              "  }\n",
              "\n",
              "  .colab-df-spinner {\n",
              "    border: 2px solid var(--fill-color);\n",
              "    border-color: transparent;\n",
              "    border-bottom-color: var(--fill-color);\n",
              "    animation:\n",
              "      spin 1s steps(1) infinite;\n",
              "  }\n",
              "\n",
              "  @keyframes spin {\n",
              "    0% {\n",
              "      border-color: transparent;\n",
              "      border-bottom-color: var(--fill-color);\n",
              "      border-left-color: var(--fill-color);\n",
              "    }\n",
              "    20% {\n",
              "      border-color: transparent;\n",
              "      border-left-color: var(--fill-color);\n",
              "      border-top-color: var(--fill-color);\n",
              "    }\n",
              "    30% {\n",
              "      border-color: transparent;\n",
              "      border-left-color: var(--fill-color);\n",
              "      border-top-color: var(--fill-color);\n",
              "      border-right-color: var(--fill-color);\n",
              "    }\n",
              "    40% {\n",
              "      border-color: transparent;\n",
              "      border-right-color: var(--fill-color);\n",
              "      border-top-color: var(--fill-color);\n",
              "    }\n",
              "    60% {\n",
              "      border-color: transparent;\n",
              "      border-right-color: var(--fill-color);\n",
              "    }\n",
              "    80% {\n",
              "      border-color: transparent;\n",
              "      border-right-color: var(--fill-color);\n",
              "      border-bottom-color: var(--fill-color);\n",
              "    }\n",
              "    90% {\n",
              "      border-color: transparent;\n",
              "      border-bottom-color: var(--fill-color);\n",
              "    }\n",
              "  }\n",
              "</style>\n",
              "\n",
              "  <script>\n",
              "    async function quickchart(key) {\n",
              "      const quickchartButtonEl =\n",
              "        document.querySelector('#' + key + ' button');\n",
              "      quickchartButtonEl.disabled = true;  // To prevent multiple clicks.\n",
              "      quickchartButtonEl.classList.add('colab-df-spinner');\n",
              "      try {\n",
              "        const charts = await google.colab.kernel.invokeFunction(\n",
              "            'suggestCharts', [key], {});\n",
              "      } catch (error) {\n",
              "        console.error('Error during call to suggestCharts:', error);\n",
              "      }\n",
              "      quickchartButtonEl.classList.remove('colab-df-spinner');\n",
              "      quickchartButtonEl.classList.add('colab-df-quickchart-complete');\n",
              "    }\n",
              "    (() => {\n",
              "      let quickchartButtonEl =\n",
              "        document.querySelector('#df-8746847e-204c-45b7-869b-6030e02cdddc button');\n",
              "      quickchartButtonEl.style.display =\n",
              "        google.colab.kernel.accessAllowed ? 'block' : 'none';\n",
              "    })();\n",
              "  </script>\n",
              "</div>\n",
              "    </div>\n",
              "  </div>\n"
            ]
          },
          "metadata": {},
          "execution_count": 20
        }
      ]
    },
    {
      "cell_type": "markdown",
      "source": [
        "Medals"
      ],
      "metadata": {
        "id": "18l3uxAxkjyc"
      }
    },
    {
      "cell_type": "code",
      "source": [
        "data_df.Medal.unique()"
      ],
      "metadata": {
        "colab": {
          "base_uri": "https://localhost:8080/"
        },
        "id": "9b33sjF7kklL",
        "outputId": "eb79363c-82a2-42e5-a7d0-ee684aa4fe3c"
      },
      "execution_count": null,
      "outputs": [
        {
          "output_type": "execute_result",
          "data": {
            "text/plain": [
              "array([nan, 'Gold', 'Bronze', 'Silver'], dtype=object)"
            ]
          },
          "metadata": {},
          "execution_count": 21
        }
      ]
    },
    {
      "cell_type": "code",
      "source": [
        "data_df.loc[data_df[\"Medal\"].isnull(),\"Medal\"] = \"None\"\n",
        "data_df.Medal.unique()"
      ],
      "metadata": {
        "colab": {
          "base_uri": "https://localhost:8080/"
        },
        "id": "NAUcx_o_kmt5",
        "outputId": "8d512524-d6b1-440d-e72f-46c7d8189154"
      },
      "execution_count": null,
      "outputs": [
        {
          "output_type": "execute_result",
          "data": {
            "text/plain": [
              "array(['None', 'Gold', 'Bronze', 'Silver'], dtype=object)"
            ]
          },
          "metadata": {},
          "execution_count": 22
        }
      ]
    },
    {
      "cell_type": "code",
      "source": [
        "values_to_replace = {\"None\":0.0, \"Bronze\":3.0, \"Silver\":2.0, \"Gold\":1.0}\n",
        "data_df[\"Medal\"].replace(values_to_replace, inplace = True)\n",
        "data_df.Medal.unique()"
      ],
      "metadata": {
        "colab": {
          "base_uri": "https://localhost:8080/"
        },
        "id": "VoCJ8mhxkrKs",
        "outputId": "da9528b2-9db1-4f4b-d39d-2a5d557fa3c3"
      },
      "execution_count": null,
      "outputs": [
        {
          "output_type": "execute_result",
          "data": {
            "text/plain": [
              "array([0., 1., 3., 2.])"
            ]
          },
          "metadata": {},
          "execution_count": 23
        }
      ]
    },
    {
      "cell_type": "code",
      "source": [
        "data_df.Medal.describe()\n"
      ],
      "metadata": {
        "colab": {
          "base_uri": "https://localhost:8080/"
        },
        "id": "VwgeCj39kwcm",
        "outputId": "601b1b8f-268f-45d5-f516-bfa9984158c9"
      },
      "execution_count": null,
      "outputs": [
        {
          "output_type": "execute_result",
          "data": {
            "text/plain": [
              "count     42232\n",
              "unique        3\n",
              "top        Gold\n",
              "freq      14172\n",
              "Name: Medal, dtype: object"
            ]
          },
          "metadata": {},
          "execution_count": 92
        }
      ]
    },
    {
      "cell_type": "code",
      "source": [
        "data_df.groupby(\"Medal\").count()[\"Sex\"]/data_df.shape[0]"
      ],
      "metadata": {
        "colab": {
          "base_uri": "https://localhost:8080/"
        },
        "id": "3Dcdm9q0kzoT",
        "outputId": "6b43c106-3815-4927-ae92-8697d50a20fe"
      },
      "execution_count": null,
      "outputs": [
        {
          "output_type": "execute_result",
          "data": {
            "text/plain": [
              "Medal\n",
              "0.0    0.852458\n",
              "1.0    0.049511\n",
              "2.0    0.048554\n",
              "3.0    0.049476\n",
              "Name: Sex, dtype: float64"
            ]
          },
          "metadata": {},
          "execution_count": 25
        }
      ]
    },
    {
      "cell_type": "markdown",
      "source": [
        "### **Medals for top 20 Countries**"
      ],
      "metadata": {
        "id": "iJoeMiEx0EVM"
      }
    },
    {
      "cell_type": "code",
      "source": [
        "#total medals\n",
        "data_df.Medal.value_counts()"
      ],
      "metadata": {
        "colab": {
          "base_uri": "https://localhost:8080/"
        },
        "id": "hOTFoEmD0HXy",
        "outputId": "57780f85-834d-47e8-8b65-1c1ab820fc8b"
      },
      "execution_count": null,
      "outputs": [
        {
          "output_type": "execute_result",
          "data": {
            "text/plain": [
              "Gold      14172\n",
              "Bronze    14162\n",
              "Silver    13898\n",
              "Name: Medal, dtype: int64"
            ]
          },
          "metadata": {},
          "execution_count": 93
        }
      ]
    },
    {
      "cell_type": "code",
      "source": [
        "# Medals for Top 20 countries in summer olympics\n",
        "total_medals_by_country = df_merged[df_merged['Season']=='Summer'].groupby(['region','Medal'])['Sex'].count().reset_index()\n",
        "total_medals_by_country=total_medals_by_country.pivot('region','Medal','Sex').fillna(0).sort_values(by='Gold',ascending=False).head(20)\n",
        "#total_medals_by_country\n",
        "total_medals_by_country.plot(kind='bar')\n",
        "fig = plt.gcf()\n",
        "fig.set_size_inches(18.5, 10.5)\n",
        "plt.xticks(rotation=90)\n",
        "plt.xlabel('Country')\n",
        "plt.ylabel(\"Athelete count\")\n",
        "plt.title('Medals by Country- Summer Olympics ')\n",
        "plt.show()"
      ],
      "metadata": {
        "colab": {
          "base_uri": "https://localhost:8080/",
          "height": 951
        },
        "id": "-Of4KHa7004o",
        "outputId": "b6d4e7da-03a4-447b-eb8b-480c43cf3903"
      },
      "execution_count": null,
      "outputs": [
        {
          "output_type": "stream",
          "name": "stderr",
          "text": [
            "<ipython-input-101-86e887a5dc2e>:3: FutureWarning: In a future version of pandas all arguments of DataFrame.pivot will be keyword-only.\n",
            "  total_medals_by_country=total_medals_by_country.pivot('region','Medal','Sex').fillna(0).sort_values(by='Gold',ascending=False).head(20)\n"
          ]
        },
        {
          "output_type": "display_data",
          "data": {
            "text/plain": [
              "<Figure size 1850x1050 with 1 Axes>"
            ],
            "image/png": "[encoded data removed]"
          },
          "metadata": {}
        }
      ]
    },
    {
      "cell_type": "code",
      "source": [
        "# Medals for Top 20 countries in winter olympics\n",
        "total_medals_by_country = df_merged[df_merged['Season']=='Winter'].groupby(['region','Medal'])['Sex'].count().reset_index()\n",
        "total_medals_by_country=total_medals_by_country.pivot('region','Medal','Sex').fillna(0).sort_values(by='Gold',ascending=False).head(20)\n",
        "#total_medals_by_country\n",
        "total_medals_by_country.plot(kind='bar')\n",
        "fig = plt.gcf()\n",
        "fig.set_size_inches(18.5, 10.5)\n",
        "plt.xticks(rotation=90)\n",
        "plt.xlabel('Country')\n",
        "plt.ylabel(\"Athelete count\")\n",
        "plt.title('Medals by Country- Winter Olympics ')\n",
        "plt.show()"
      ],
      "metadata": {
        "colab": {
          "base_uri": "https://localhost:8080/",
          "height": 976
        },
        "id": "RuKCeXGZBi-O",
        "outputId": "47bd0e0c-b0cd-4de2-cfbc-f54641598d9c"
      },
      "execution_count": null,
      "outputs": [
        {
          "output_type": "stream",
          "name": "stderr",
          "text": [
            "<ipython-input-102-1524e438aa67>:3: FutureWarning: In a future version of pandas all arguments of DataFrame.pivot will be keyword-only.\n",
            "  total_medals_by_country=total_medals_by_country.pivot('region','Medal','Sex').fillna(0).sort_values(by='Gold',ascending=False).head(20)\n"
          ]
        },
        {
          "output_type": "display_data",
          "data": {
            "text/plain": [
              "<Figure size 1850x1050 with 1 Axes>"
            ],
            "image/png": "[encoded data removed]"
          },
          "metadata": {}
        }
      ]
    },
    {
      "cell_type": "markdown",
      "source": [
        "### **Gold Medal for each country**"
      ],
      "metadata": {
        "id": "4hlatYaOIXrQ"
      }
    },
    {
      "cell_type": "code",
      "source": [
        "goldMedals = df_merged[df_merged['Medal'] == 'Gold']\n",
        "goldMedals.region.value_counts().reset_index(name='Medal').head()"
      ],
      "metadata": {
        "colab": {
          "base_uri": "https://localhost:8080/",
          "height": 206
        },
        "id": "ieH1KFhSIi_W",
        "outputId": "aa831810-de3f-405f-decb-a1fd5d6555b8"
      },
      "execution_count": null,
      "outputs": [
        {
          "output_type": "execute_result",
          "data": {
            "text/plain": [
              "     index  Medal\n",
              "0      USA   2751\n",
              "1   Russia   1640\n",
              "2  Germany   1322\n",
              "3       UK    719\n",
              "4    Italy    597"
            ],
            "text/html": [
              "\n",
              "  <div id=\"df-809092e4-eb38-4eee-9846-0641fb0f7c48\" class=\"colab-df-container\">\n",
              "    <div>\n",
              "<style scoped>\n",
              "    .dataframe tbody tr th:only-of-type {\n",
              "        vertical-align: middle;\n",
              "    }\n",
              "\n",
              "    .dataframe tbody tr th {\n",
              "        vertical-align: top;\n",
              "    }\n",
              "\n",
              "    .dataframe thead th {\n",
              "        text-align: right;\n",
              "    }\n",
              "</style>\n",
              "<table border=\"1\" class=\"dataframe\">\n",
              "  <thead>\n",
              "    <tr style=\"text-align: right;\">\n",
              "      <th></th>\n",
              "      <th>index</th>\n",
              "      <th>Medal</th>\n",
              "    </tr>\n",
              "  </thead>\n",
              "  <tbody>\n",
              "    <tr>\n",
              "      <th>0</th>\n",
              "      <td>USA</td>\n",
              "      <td>2751</td>\n",
              "    </tr>\n",
              "    <tr>\n",
              "      <th>1</th>\n",
              "      <td>Russia</td>\n",
              "      <td>1640</td>\n",
              "    </tr>\n",
              "    <tr>\n",
              "      <th>2</th>\n",
              "      <td>Germany</td>\n",
              "      <td>1322</td>\n",
              "    </tr>\n",
              "    <tr>\n",
              "      <th>3</th>\n",
              "      <td>UK</td>\n",
              "      <td>719</td>\n",
              "    </tr>\n",
              "    <tr>\n",
              "      <th>4</th>\n",
              "      <td>Italy</td>\n",
              "      <td>597</td>\n",
              "    </tr>\n",
              "  </tbody>\n",
              "</table>\n",
              "</div>\n",
              "    <div class=\"colab-df-buttons\">\n",
              "\n",
              "  <div class=\"colab-df-container\">\n",
              "    <button class=\"colab-df-convert\" onclick=\"convertToInteractive('df-809092e4-eb38-4eee-9846-0641fb0f7c48')\"\n",
              "            title=\"Convert this dataframe to an interactive table.\"\n",
              "            style=\"display:none;\">\n",
              "\n",
              "  <svg xmlns=\"http://www.w3.org/2000/svg\" height=\"24px\" viewBox=\"0 -960 960 960\">\n",
              "    <path d=\"M120-120v-720h720v720H120Zm60-500h600v-160H180v160Zm220 220h160v-160H400v160Zm0 220h160v-160H400v160ZM180-400h160v-160H180v160Zm440 0h160v-160H620v160ZM180-180h160v-160H180v160Zm440 0h160v-160H620v160Z\"/>\n",
              "  </svg>\n",
              "    </button>\n",
              "\n",
              "  <style>\n",
              "    .colab-df-container {\n",
              "      display:flex;\n",
              "      gap: 12px;\n",
              "    }\n",
              "\n",
              "    .colab-df-convert {\n",
              "      background-color: #E8F0FE;\n",
              "      border: none;\n",
              "      border-radius: 50%;\n",
              "      cursor: pointer;\n",
              "      display: none;\n",
              "      fill: #1967D2;\n",
              "      height: 32px;\n",
              "      padding: 0 0 0 0;\n",
              "      width: 32px;\n",
              "    }\n",
              "\n",
              "    .colab-df-convert:hover {\n",
              "      background-color: #E2EBFA;\n",
              "      box-shadow: 0px 1px 2px rgba(60, 64, 67, 0.3), 0px 1px 3px 1px rgba(60, 64, 67, 0.15);\n",
              "      fill: #174EA6;\n",
              "    }\n",
              "\n",
              "    .colab-df-buttons div {\n",
              "      margin-bottom: 4px;\n",
              "    }\n",
              "\n",
              "    [theme=dark] .colab-df-convert {\n",
              "      background-color: #3B4455;\n",
              "      fill: #D2E3FC;\n",
              "    }\n",
              "\n",
              "    [theme=dark] .colab-df-convert:hover {\n",
              "      background-color: #434B5C;\n",
              "      box-shadow: 0px 1px 3px 1px rgba(0, 0, 0, 0.15);\n",
              "      filter: drop-shadow(0px 1px 2px rgba(0, 0, 0, 0.3));\n",
              "      fill: #FFFFFF;\n",
              "    }\n",
              "  </style>\n",
              "\n",
              "    <script>\n",
              "      const buttonEl =\n",
              "        document.querySelector('#df-809092e4-eb38-4eee-9846-0641fb0f7c48 button.colab-df-convert');\n",
              "      buttonEl.style.display =\n",
              "        google.colab.kernel.accessAllowed ? 'block' : 'none';\n",
              "\n",
              "      async function convertToInteractive(key) {\n",
              "        const element = document.querySelector('#df-809092e4-eb38-4eee-9846-0641fb0f7c48');\n",
              "        const dataTable =\n",
              "          await google.colab.kernel.invokeFunction('convertToInteractive',\n",
              "                                                    [key], {});\n",
              "        if (!dataTable) return;\n",
              "\n",
              "        const docLinkHtml = 'Like what you see? Visit the ' +\n",
              "          '<a target=\"_blank\" href=https://colab.research.google.com/notebooks/data_table.ipynb>data table notebook</a>'\n",
              "          + ' to learn more about interactive tables.';\n",
              "        element.innerHTML = '';\n",
              "        dataTable['output_type'] = 'display_data';\n",
              "        await google.colab.output.renderOutput(dataTable, element);\n",
              "        const docLink = document.createElement('div');\n",
              "        docLink.innerHTML = docLinkHtml;\n",
              "        element.appendChild(docLink);\n",
              "      }\n",
              "    </script>\n",
              "  </div>\n",
              "\n",
              "\n",
              "<div id=\"df-a13c3e1c-b786-4ea0-a613-9e24930076e4\">\n",
              "  <button class=\"colab-df-quickchart\" onclick=\"quickchart('df-a13c3e1c-b786-4ea0-a613-9e24930076e4')\"\n",
              "            title=\"Suggest charts.\"\n",
              "            style=\"display:none;\">\n",
              "\n",
              "<svg xmlns=\"http://www.w3.org/2000/svg\" height=\"24px\"viewBox=\"0 0 24 24\"\n",
              "     width=\"24px\">\n",
              "    <g>\n",
              "        <path d=\"M19 3H5c-1.1 0-2 .9-2 2v14c0 1.1.9 2 2 2h14c1.1 0 2-.9 2-2V5c0-1.1-.9-2-2-2zM9 17H7v-7h2v7zm4 0h-2V7h2v10zm4 0h-2v-4h2v4z\"/>\n",
              "    </g>\n",
              "</svg>\n",
              "  </button>\n",
              "\n",
              "<style>\n",
              "  .colab-df-quickchart {\n",
              "      --bg-color: #E8F0FE;\n",
              "      --fill-color: #1967D2;\n",
              "      --hover-bg-color: #E2EBFA;\n",
              "      --hover-fill-color: #174EA6;\n",
              "      --disabled-fill-color: #AAA;\n",
              "      --disabled-bg-color: #DDD;\n",
              "  }\n",
              "\n",
              "  [theme=dark] .colab-df-quickchart {\n",
              "      --bg-color: #3B4455;\n",
              "      --fill-color: #D2E3FC;\n",
              "      --hover-bg-color: #434B5C;\n",
              "      --hover-fill-color: #FFFFFF;\n",
              "      --disabled-bg-color: #3B4455;\n",
              "      --disabled-fill-color: #666;\n",
              "  }\n",
              "\n",
              "  .colab-df-quickchart {\n",
              "    background-color: var(--bg-color);\n",
              "    border: none;\n",
              "    border-radius: 50%;\n",
              "    cursor: pointer;\n",
              "    display: none;\n",
              "    fill: var(--fill-color);\n",
              "    height: 32px;\n",
              "    padding: 0;\n",
              "    width: 32px;\n",
              "  }\n",
              "\n",
              "  .colab-df-quickchart:hover {\n",
              "    background-color: var(--hover-bg-color);\n",
              "    box-shadow: 0 1px 2px rgba(60, 64, 67, 0.3), 0 1px 3px 1px rgba(60, 64, 67, 0.15);\n",
              "    fill: var(--button-hover-fill-color);\n",
              "  }\n",
              "\n",
              "  .colab-df-quickchart-complete:disabled,\n",
              "  .colab-df-quickchart-complete:disabled:hover {\n",
              "    background-color: var(--disabled-bg-color);\n",
              "    fill: var(--disabled-fill-color);\n",
              "    box-shadow: none;\n",
              "  }\n",
              "\n",
              "  .colab-df-spinner {\n",
              "    border: 2px solid var(--fill-color);\n",
              "    border-color: transparent;\n",
              "    border-bottom-color: var(--fill-color);\n",
              "    animation:\n",
              "      spin 1s steps(1) infinite;\n",
              "  }\n",
              "\n",
              "  @keyframes spin {\n",
              "    0% {\n",
              "      border-color: transparent;\n",
              "      border-bottom-color: var(--fill-color);\n",
              "      border-left-color: var(--fill-color);\n",
              "    }\n",
              "    20% {\n",
              "      border-color: transparent;\n",
              "      border-left-color: var(--fill-color);\n",
              "      border-top-color: var(--fill-color);\n",
              "    }\n",
              "    30% {\n",
              "      border-color: transparent;\n",
              "      border-left-color: var(--fill-color);\n",
              "      border-top-color: var(--fill-color);\n",
              "      border-right-color: var(--fill-color);\n",
              "    }\n",
              "    40% {\n",
              "      border-color: transparent;\n",
              "      border-right-color: var(--fill-color);\n",
              "      border-top-color: var(--fill-color);\n",
              "    }\n",
              "    60% {\n",
              "      border-color: transparent;\n",
              "      border-right-color: var(--fill-color);\n",
              "    }\n",
              "    80% {\n",
              "      border-color: transparent;\n",
              "      border-right-color: var(--fill-color);\n",
              "      border-bottom-color: var(--fill-color);\n",
              "    }\n",
              "    90% {\n",
              "      border-color: transparent;\n",
              "      border-bottom-color: var(--fill-color);\n",
              "    }\n",
              "  }\n",
              "</style>\n",
              "\n",
              "  <script>\n",
              "    async function quickchart(key) {\n",
              "      const quickchartButtonEl =\n",
              "        document.querySelector('#' + key + ' button');\n",
              "      quickchartButtonEl.disabled = true;  // To prevent multiple clicks.\n",
              "      quickchartButtonEl.classList.add('colab-df-spinner');\n",
              "      try {\n",
              "        const charts = await google.colab.kernel.invokeFunction(\n",
              "            'suggestCharts', [key], {});\n",
              "      } catch (error) {\n",
              "        console.error('Error during call to suggestCharts:', error);\n",
              "      }\n",
              "      quickchartButtonEl.classList.remove('colab-df-spinner');\n",
              "      quickchartButtonEl.classList.add('colab-df-quickchart-complete');\n",
              "    }\n",
              "    (() => {\n",
              "      let quickchartButtonEl =\n",
              "        document.querySelector('#df-a13c3e1c-b786-4ea0-a613-9e24930076e4 button');\n",
              "      quickchartButtonEl.style.display =\n",
              "        google.colab.kernel.accessAllowed ? 'block' : 'none';\n",
              "    })();\n",
              "  </script>\n",
              "</div>\n",
              "    </div>\n",
              "  </div>\n"
            ]
          },
          "metadata": {},
          "execution_count": 118
        }
      ]
    },
    {
      "cell_type": "code",
      "source": [
        "totalGoldMedals = goldMedals.region.value_counts().reset_index(name='Medal').head()\n",
        "\n",
        "\n",
        "sns.catplot(x='index',y='Medal',data=totalGoldMedals,\n",
        "           height=5,kind='bar')\n",
        "plt.xlabel('Top 5 Countries')\n",
        "plt.ylabel('Number of Gold Medals')\n",
        "plt.title('Gold Medals per Country')\n",
        "plt.show()"
      ],
      "metadata": {
        "colab": {
          "base_uri": "https://localhost:8080/",
          "height": 529
        },
        "id": "kQMKALOMJcM4",
        "outputId": "a9368de5-0953-4d61-ce76-1f4df26efd00"
      },
      "execution_count": null,
      "outputs": [
        {
          "output_type": "display_data",
          "data": {
            "text/plain": [
              "<Figure size 500x500 with 1 Axes>"
            ],
            "image/png": "[encoded data removed]"
          },
          "metadata": {}
        }
      ]
    },
    {
      "cell_type": "markdown",
      "source": [
        "### **Athletes Participated in Summer Olympics**"
      ],
      "metadata": {
        "id": "u9MuGIHTE6iV"
      }
    },
    {
      "cell_type": "code",
      "source": [
        "# Atheletes Participated in Summer Olympics\n",
        "athletes_per_year = df_merged[df_merged['Season']=='Summer'].groupby('Year')[\"Name\"].count().reset_index()\n",
        "\n",
        "plt.figure(figsize=(15, 10))\n",
        "sns.lineplot(data=athletes_per_year, x=\"Year\", y=\"Name\")\n",
        "plt.xlabel('Year')\n",
        "plt.ylabel('No of Athletes')\n",
        "plt.show()"
      ],
      "metadata": {
        "colab": {
          "base_uri": "https://localhost:8080/",
          "height": 850
        },
        "id": "KZJIxxNJFCqX",
        "outputId": "da9de657-e48e-42b5-aef9-85207da7dc66"
      },
      "execution_count": null,
      "outputs": [
        {
          "output_type": "display_data",
          "data": {
            "text/plain": [
              "<Figure size 1500x1000 with 1 Axes>"
            ],
            "image/png": "[encoded data removed]"
          },
          "metadata": {}
        }
      ]
    },
    {
      "cell_type": "markdown",
      "source": [
        "### **Athletes Participated in Summer Olympics**"
      ],
      "metadata": {
        "id": "Ly96VN2oGSqY"
      }
    },
    {
      "cell_type": "code",
      "source": [
        "# Atheletes Participated in Summer Olympics\n",
        "athletes_per_year = df_merged[df_merged['Season']=='Winter'].groupby('Year')['Name'].count().reset_index()\n",
        "\n",
        "plt.figure(figsize=(15, 10))\n",
        "sns.lineplot(data=athletes_per_year, x=\"Year\", y=\"Name\")\n",
        "plt.xlabel('Year')\n",
        "plt.ylabel('No of Athletes')\n",
        "plt.show()"
      ],
      "metadata": {
        "colab": {
          "base_uri": "https://localhost:8080/",
          "height": 850
        },
        "id": "lH7QmZg7GUrl",
        "outputId": "8eec9b1c-3486-4312-9546-346225d1a648"
      },
      "execution_count": null,
      "outputs": [
        {
          "output_type": "display_data",
          "data": {
            "text/plain": [
              "<Figure size 1500x1000 with 1 Axes>"
            ],
            "image/png": "[encoded data removed]"
          },
          "metadata": {}
        }
      ]
    },
    {
      "cell_type": "markdown",
      "source": [
        "### **Sex(Male/Female)**"
      ],
      "metadata": {
        "id": "oJxbuR-Ck5di"
      }
    },
    {
      "cell_type": "code",
      "source": [
        "data_df.Sex.unique()"
      ],
      "metadata": {
        "colab": {
          "base_uri": "https://localhost:8080/"
        },
        "id": "M5v6y6brk9F-",
        "outputId": "e03b9abb-fd1f-4890-9a22-1d8c73e2219b"
      },
      "execution_count": null,
      "outputs": [
        {
          "output_type": "execute_result",
          "data": {
            "text/plain": [
              "array(['M', 'F'], dtype=object)"
            ]
          },
          "metadata": {},
          "execution_count": 26
        }
      ]
    },
    {
      "cell_type": "code",
      "source": [
        "values_to_replace = {\"M\":2.0, \"F\":1.0}\n",
        "data_df[\"Sex\"].replace(values_to_replace, inplace = True)\n",
        "data_df.Sex.unique()"
      ],
      "metadata": {
        "colab": {
          "base_uri": "https://localhost:8080/"
        },
        "id": "zL-vxqV9k-oQ",
        "outputId": "d17b67df-c5aa-4adb-ae80-a0a6e16e63ec"
      },
      "execution_count": null,
      "outputs": [
        {
          "output_type": "execute_result",
          "data": {
            "text/plain": [
              "array([2., 1.])"
            ]
          },
          "metadata": {},
          "execution_count": 27
        }
      ]
    },
    {
      "cell_type": "markdown",
      "source": [
        "### **Participation based on Gender**"
      ],
      "metadata": {
        "id": "wB0QQ0R6yYf1"
      }
    },
    {
      "cell_type": "code",
      "source": [
        "gender_counts = data_df.Sex.value_counts()\n",
        "gender_counts"
      ],
      "metadata": {
        "colab": {
          "base_uri": "https://localhost:8080/"
        },
        "id": "gJ8rzH2uyc01",
        "outputId": "3fcc1c74-2a2c-4994-b0f6-66cd511db619"
      },
      "execution_count": null,
      "outputs": [
        {
          "output_type": "execute_result",
          "data": {
            "text/plain": [
              "M    204449\n",
              "F     81788\n",
              "Name: Sex, dtype: int64"
            ]
          },
          "metadata": {},
          "execution_count": 87
        }
      ]
    },
    {
      "cell_type": "markdown",
      "source": [
        "**Since Inception of olympics, we have more number of male participants than female participants.**"
      ],
      "metadata": {
        "id": "FhnWva1QykTR"
      }
    },
    {
      "cell_type": "code",
      "source": [
        "# pie chart for male and female participants\n",
        "plt.figure(figsize=(12,6))\n",
        "plt.pie(gender_counts,labels = gender_counts.index, autopct = '%1.1f%%',startangle=150 )\n",
        "plt.title('Gender Distribution')\n",
        "plt.show()"
      ],
      "metadata": {
        "colab": {
          "base_uri": "https://localhost:8080/",
          "height": 521
        },
        "id": "rxMoGpKmynhq",
        "outputId": "e3fe2813-5ba9-4915-bf49-d5b07c67e8aa"
      },
      "execution_count": null,
      "outputs": [
        {
          "output_type": "display_data",
          "data": {
            "text/plain": [
              "<Figure size 1200x600 with 1 Axes>"
            ],
            "image/png": "[encoded data removed]"
          },
          "metadata": {}
        }
      ]
    },
    {
      "cell_type": "markdown",
      "source": [
        "**Distribution According to Sex in both Season**"
      ],
      "metadata": {
        "id": "qc-niAbhzc8b"
      }
    },
    {
      "cell_type": "code",
      "source": [
        "plt.figure(figsize=(12,6))\n",
        "sns.countplot(x=\"Season\", hue=\"Sex\", data=data_df)\n",
        "plt.title('Participation of male and female athelete in both season')\n",
        "plt.ylabel(\"Athelete count\")\n",
        "plt.show()"
      ],
      "metadata": {
        "colab": {
          "base_uri": "https://localhost:8080/",
          "height": 564
        },
        "id": "2mYsnizqzjsL",
        "outputId": "58709599-f6f1-41dc-b074-67f6750ff9d9"
      },
      "execution_count": null,
      "outputs": [
        {
          "output_type": "display_data",
          "data": {
            "text/plain": [
              "<Figure size 1200x600 with 1 Axes>"
            ],
            "image/png": "[encoded data removed]"
          },
          "metadata": {}
        }
      ]
    },
    {
      "cell_type": "markdown",
      "source": [
        "### **Total number of Male Athletes in Olympics**"
      ],
      "metadata": {
        "id": "trEP3556Grxb"
      }
    },
    {
      "cell_type": "code",
      "source": [
        "male_participants = df_merged[(df_merged['Sex'] == 'M')]\n",
        "\n",
        "sns.countplot(x='Year',data=male_participants)\n",
        "plt.title('Men Participation In Olympics')\n",
        "plt.xticks(rotation=90)\n",
        "plt.show()"
      ],
      "metadata": {
        "colab": {
          "base_uri": "https://localhost:8080/",
          "height": 493
        },
        "id": "Xv4kCxAsG_7t",
        "outputId": "c653e19c-971a-4632-f4fe-7c03c30c61bf"
      },
      "execution_count": null,
      "outputs": [
        {
          "output_type": "display_data",
          "data": {
            "text/plain": [
              "<Figure size 640x480 with 1 Axes>"
            ],
            "image/png": "[encoded data removed]"
          },
          "metadata": {}
        }
      ]
    },
    {
      "cell_type": "markdown",
      "source": [
        "### **Total number of Male Athletes in Olympics**"
      ],
      "metadata": {
        "id": "WOI8WyGUH2eA"
      }
    },
    {
      "cell_type": "code",
      "source": [
        "Female_participants = df_merged[(df_merged['Sex'] == 'F')]\n",
        "\n",
        "sns.countplot(x='Year',data=Female_participants)\n",
        "plt.title('Women Participation In Olympics')\n",
        "plt.xticks(rotation=90)\n",
        "plt.show()"
      ],
      "metadata": {
        "colab": {
          "base_uri": "https://localhost:8080/",
          "height": 493
        },
        "id": "yMHE6FexH52W",
        "outputId": "3362e2c2-abd3-43cd-fd01-34827eeb49f9"
      },
      "execution_count": null,
      "outputs": [
        {
          "output_type": "display_data",
          "data": {
            "text/plain": [
              "<Figure size 640x480 with 1 Axes>"
            ],
            "image/png": "[encoded data removed]"
          },
          "metadata": {}
        }
      ]
    },
    {
      "cell_type": "markdown",
      "source": [
        "### **Team**"
      ],
      "metadata": {
        "id": "v7SmnWFnlDKV"
      }
    },
    {
      "cell_type": "code",
      "source": [
        "teams = data_df.Team.unique()\n",
        "teams"
      ],
      "metadata": {
        "colab": {
          "base_uri": "https://localhost:8080/"
        },
        "id": "k4r57eM_lD2o",
        "outputId": "fb6900be-a254-4075-b3b0-bcf10a89626c"
      },
      "execution_count": null,
      "outputs": [
        {
          "output_type": "execute_result",
          "data": {
            "text/plain": [
              "array(['China', 'Denmark', 'Denmark/Sweden', ..., 'Uzbekistan-1',\n",
              "       'Jamaica-1', 'Luxembourg-1'], dtype=object)"
            ]
          },
          "metadata": {},
          "execution_count": 28
        }
      ]
    },
    {
      "cell_type": "code",
      "source": [
        "values = np.arange(len(teams))\n",
        "values_to_replace = dict(zip(teams, values))\n",
        "data_df[\"Team\"].replace(values_to_replace, inplace = True)\n",
        "data_df.Team.unique()"
      ],
      "metadata": {
        "colab": {
          "base_uri": "https://localhost:8080/"
        },
        "id": "T3MJ-eb9lE9P",
        "outputId": "14bf8d20-5e71-4967-f426-3ee4e6f4a244"
      },
      "execution_count": null,
      "outputs": [
        {
          "output_type": "execute_result",
          "data": {
            "text/plain": [
              "array([   0,    1,    2, ..., 1193, 1194, 1195])"
            ]
          },
          "metadata": {},
          "execution_count": 29
        }
      ]
    },
    {
      "cell_type": "markdown",
      "source": [
        "### **Events**"
      ],
      "metadata": {
        "id": "WXVyV9v0mpKr"
      }
    },
    {
      "cell_type": "code",
      "source": [
        "events = data_df.Event.unique()\n",
        "events"
      ],
      "metadata": {
        "colab": {
          "base_uri": "https://localhost:8080/"
        },
        "id": "5c0MQCJimp-6",
        "outputId": "b2d18965-a95c-42c1-cfa1-83c1c17f76b3"
      },
      "execution_count": null,
      "outputs": [
        {
          "output_type": "execute_result",
          "data": {
            "text/plain": [
              "array([\"Basketball Men's Basketball\", \"Judo Men's Extra-Lightweight\",\n",
              "       \"Football Men's Football\", ...,\n",
              "       \"Snowboarding Women's Parallel Giant Slalom\",\n",
              "       \"Speed Skating Men's Allround\",\n",
              "       \"Snowboarding Women's Parallel Slalom\"], dtype=object)"
            ]
          },
          "metadata": {},
          "execution_count": 30
        }
      ]
    },
    {
      "cell_type": "code",
      "source": [
        "values = np.arange(len(events))\n",
        "values_to_replace = dict(zip(events, values))\n",
        "data_df[\"Event\"].replace(values_to_replace, inplace = True)\n",
        "data_df.Event.unique()"
      ],
      "metadata": {
        "colab": {
          "base_uri": "https://localhost:8080/"
        },
        "id": "csfnZwvomrv2",
        "outputId": "457496ce-bef7-422c-a034-4eaa168b7fea"
      },
      "execution_count": null,
      "outputs": [
        {
          "output_type": "execute_result",
          "data": {
            "text/plain": [
              "array([   0,    1,    2, ..., 1068, 1069, 1070])"
            ]
          },
          "metadata": {},
          "execution_count": 31
        }
      ]
    },
    {
      "cell_type": "markdown",
      "source": [
        "### **NOC**"
      ],
      "metadata": {
        "id": "66w3OPpwCL9P"
      }
    },
    {
      "cell_type": "code",
      "source": [
        "NOCs = data_df.NOC.unique()\n",
        "NOCs"
      ],
      "metadata": {
        "colab": {
          "base_uri": "https://localhost:8080/"
        },
        "id": "17OPFN8jmtao",
        "outputId": "6c69678c-ef90-4893-ca0f-a4a1fd510c04"
      },
      "execution_count": null,
      "outputs": [
        {
          "output_type": "execute_result",
          "data": {
            "text/plain": [
              "array(['CHN', 'DEN', 'NED', 'FIN', 'NOR', 'ROU', 'EST', 'FRA', 'MAR',\n",
              "       'ESP', 'EGY', 'IRI', 'BUL', 'ITA', 'CHA', 'AZE', 'SUD', 'RUS',\n",
              "       'ARG', 'CUB', 'BLR', 'GRE', 'CMR', 'TUR', 'CHI', 'MEX', 'USA',\n",
              "       'URS', 'NCA', 'HUN', 'NGR', 'ALG', 'KUW', 'BRN', 'PAK', 'IRQ',\n",
              "       'UAR', 'LIB', 'QAT', 'MAS', 'GER', 'CAN', 'IRL', 'AUS', 'RSA',\n",
              "       'ERI', 'TAN', 'JOR', 'TUN', 'LBA', 'BEL', 'DJI', 'PLE', 'COM',\n",
              "       'KAZ', 'BRU', 'IND', 'KSA', 'SYR', 'MDV', 'ETH', 'UAE', 'YAR',\n",
              "       'INA', 'PHI', 'SGP', 'UZB', 'KGZ', 'TJK', 'EUN', 'JPN', 'CGO',\n",
              "       'SUI', 'BRA', 'GDR', 'MON', 'ISR', 'URU', 'SWE', 'SRI', 'ARM',\n",
              "       'CIV', 'KEN', 'BEN', 'GBR', 'GHA', 'SOM', 'NIG', 'MLI', 'AFG',\n",
              "       'POL', 'CRC', 'PAN', 'GEO', 'SLO', 'GUY', 'NZL', 'POR', 'PAR',\n",
              "       'ANG', 'VEN', 'COL', 'FRG', 'BAN', 'PER', 'ESA', 'PUR', 'UGA',\n",
              "       'HON', 'ECU', 'TKM', 'MRI', 'SEY', 'TCH', 'LUX', 'MTN', 'SKN',\n",
              "       'TTO', 'DOM', 'VIN', 'JAM', 'LBR', 'SUR', 'NEP', 'MGL', 'AUT',\n",
              "       'PLW', 'LTU', 'TOG', 'NAM', 'AHO', 'UKR', 'ISL', 'ASA', 'SAM',\n",
              "       'RWA', 'CRO', 'DMA', 'HAI', 'MLT', 'CYP', 'GUI', 'BIZ', 'YMD',\n",
              "       'THA', 'BER', 'ANZ', 'SCG', 'SLE', 'PNG', 'YEM', 'IOA', 'OMA',\n",
              "       'FIJ', 'VAN', 'MDA', 'BAH', 'GUA', 'YUG', 'LAT', 'SRB', 'IVB',\n",
              "       'MOZ', 'ISV', 'CAF', 'MAD', 'MAL', 'BIH', 'GUM', 'CAY', 'SVK',\n",
              "       'BAR', 'GBS', 'TLS', 'COD', 'GAB', 'SMR', 'LAO', 'BOT', 'ROT',\n",
              "       'KOR', 'CAM', 'PRK', 'SOL', 'SEN', 'CPV', 'CZE', 'CRT', 'GEQ',\n",
              "       'BOL', 'SAA', 'ANT', 'AND', 'ZIM', 'GRN', 'HKG', 'LCA', 'FSM',\n",
              "       'MYA', 'MAW', 'ZAM', 'RHO', 'TPE', 'STP', 'MKD', 'BOH', 'LIE',\n",
              "       'MNE', 'GAM', 'COK', 'ALB', 'WIF', 'SWZ', 'BUR', 'NBO', 'BDI',\n",
              "       'ARU', 'NRU', 'VNM', 'VIE', 'BHU', 'MHL', 'KIR', 'UNK', 'TUV',\n",
              "       'TGA', 'NFL', 'KOS', 'SSD', 'LES', 'ROC', 'EOR', 'LBN'],\n",
              "      dtype=object)"
            ]
          },
          "metadata": {},
          "execution_count": 32
        }
      ]
    },
    {
      "cell_type": "code",
      "source": [
        "values = np.arange(len(NOCs))\n",
        "values_to_replace = dict(zip(NOCs, values))\n",
        "data_df[\"NOC\"].replace(values_to_replace, inplace = True)\n",
        "data_df.NOC.unique()"
      ],
      "metadata": {
        "colab": {
          "base_uri": "https://localhost:8080/"
        },
        "id": "tjzVqLejouBV",
        "outputId": "b06be7c7-c4a4-4e99-de55-1f4f8ee8c916"
      },
      "execution_count": null,
      "outputs": [
        {
          "output_type": "execute_result",
          "data": {
            "text/plain": [
              "array([  0,   1,   2,   3,   4,   5,   6,   7,   8,   9,  10,  11,  12,\n",
              "        13,  14,  15,  16,  17,  18,  19,  20,  21,  22,  23,  24,  25,\n",
              "        26,  27,  28,  29,  30,  31,  32,  33,  34,  35,  36,  37,  38,\n",
              "        39,  40,  41,  42,  43,  44,  45,  46,  47,  48,  49,  50,  51,\n",
              "        52,  53,  54,  55,  56,  57,  58,  59,  60,  61,  62,  63,  64,\n",
              "        65,  66,  67,  68,  69,  70,  71,  72,  73,  74,  75,  76,  77,\n",
              "        78,  79,  80,  81,  82,  83,  84,  85,  86,  87,  88,  89,  90,\n",
              "        91,  92,  93,  94,  95,  96,  97,  98,  99, 100, 101, 102, 103,\n",
              "       104, 105, 106, 107, 108, 109, 110, 111, 112, 113, 114, 115, 116,\n",
              "       117, 118, 119, 120, 121, 122, 123, 124, 125, 126, 127, 128, 129,\n",
              "       130, 131, 132, 133, 134, 135, 136, 137, 138, 139, 140, 141, 142,\n",
              "       143, 144, 145, 146, 147, 148, 149, 150, 151, 152, 153, 154, 155,\n",
              "       156, 157, 158, 159, 160, 161, 162, 163, 164, 165, 166, 167, 168,\n",
              "       169, 170, 171, 172, 173, 174, 175, 176, 177, 178, 179, 180, 181,\n",
              "       182, 183, 184, 185, 186, 187, 188, 189, 190, 191, 192, 193, 194,\n",
              "       195, 196, 197, 198, 199, 200, 201, 202, 203, 204, 205, 206, 207,\n",
              "       208, 209, 210, 211, 212, 213, 214, 215, 216, 217, 218, 219, 220,\n",
              "       221, 222, 223, 224, 225, 226, 227, 228, 229, 230, 231, 232])"
            ]
          },
          "metadata": {},
          "execution_count": 33
        }
      ]
    },
    {
      "cell_type": "markdown",
      "source": [
        "### **Season**"
      ],
      "metadata": {
        "id": "eKB8_cfjCQDi"
      }
    },
    {
      "cell_type": "code",
      "source": [
        "seasons = data_df.Season.unique()\n",
        "seasons"
      ],
      "metadata": {
        "colab": {
          "base_uri": "https://localhost:8080/"
        },
        "id": "xAFWah3LoyeG",
        "outputId": "7b430123-0392-4e35-a111-c7a2f86a34cb"
      },
      "execution_count": null,
      "outputs": [
        {
          "output_type": "execute_result",
          "data": {
            "text/plain": [
              "array(['Summer', 'Winter'], dtype=object)"
            ]
          },
          "metadata": {},
          "execution_count": 34
        }
      ]
    },
    {
      "cell_type": "code",
      "source": [
        "values = np.arange(len(seasons))\n",
        "values_to_replace = dict(zip(seasons, values))\n",
        "data_df[\"Season\"].replace(values_to_replace, inplace = True)\n",
        "data_df.Season.unique()"
      ],
      "metadata": {
        "id": "iB4T-f1Io_aZ"
      },
      "execution_count": null,
      "outputs": []
    },
    {
      "cell_type": "markdown",
      "source": [
        "### **City**"
      ],
      "metadata": {
        "id": "SHuLM_PxCU4t"
      }
    },
    {
      "cell_type": "code",
      "source": [
        "cities = data_df.City.unique()\n",
        "cities"
      ],
      "metadata": {
        "colab": {
          "base_uri": "https://localhost:8080/"
        },
        "id": "zzjv47_lpBcD",
        "outputId": "fd63eca3-8095-4457-cd9b-61a35ce6630d"
      },
      "execution_count": null,
      "outputs": [
        {
          "output_type": "execute_result",
          "data": {
            "text/plain": [
              "array(['Barcelona', 'London', 'Antwerpen', 'Paris', 'Los Angeles',\n",
              "       'Helsinki', 'Sydney', 'Atlanta', 'Stockholm', 'Beijing',\n",
              "       'Rio de Janeiro', 'Athina', 'Mexico City', 'Munich', 'Seoul',\n",
              "       'Berlin', 'Melbourne', 'Roma', 'Amsterdam', 'Montreal', 'Moskva',\n",
              "       'Tokyo', 'St. Louis', 'Calgary', 'Albertville', 'Lillehammer',\n",
              "       'Salt Lake City', 'Lake Placid', 'Sochi', 'Nagano', 'Torino',\n",
              "       'Squaw Valley', 'Innsbruck', 'Sarajevo', 'Oslo',\n",
              "       \"Cortina d'Ampezzo\", 'Vancouver', 'Grenoble', 'Sapporo',\n",
              "       'Chamonix', 'Sankt Moritz', 'Garmisch-Partenkirchen'], dtype=object)"
            ]
          },
          "metadata": {},
          "execution_count": 36
        }
      ]
    },
    {
      "cell_type": "code",
      "source": [
        "values = np.arange(len(cities))\n",
        "values_to_replace = dict(zip(cities, values))\n",
        "data_df[\"City\"].replace(values_to_replace, inplace = True)\n",
        "data_df.City.unique()"
      ],
      "metadata": {
        "colab": {
          "base_uri": "https://localhost:8080/"
        },
        "id": "jMaSTyLopDK5",
        "outputId": "b33991d0-0e46-45ea-fce4-309a275dd16b"
      },
      "execution_count": null,
      "outputs": [
        {
          "output_type": "execute_result",
          "data": {
            "text/plain": [
              "array([ 0,  1,  2,  3,  4,  5,  6,  7,  8,  9, 10, 11, 12, 13, 14, 15, 16,\n",
              "       17, 18, 19, 20, 21, 22, 23, 24, 25, 26, 27, 28, 29, 30, 31, 32, 33,\n",
              "       34, 35, 36, 37, 38, 39, 40, 41])"
            ]
          },
          "metadata": {},
          "execution_count": 37
        }
      ]
    },
    {
      "cell_type": "markdown",
      "source": [
        "### **Sport**"
      ],
      "metadata": {
        "id": "CC2RtIxHCXmm"
      }
    },
    {
      "cell_type": "code",
      "source": [
        "sports = data_df.Sport.unique()\n",
        "sports"
      ],
      "metadata": {
        "colab": {
          "base_uri": "https://localhost:8080/"
        },
        "id": "QDgBe0xmpFgc",
        "outputId": "c5d5712e-698e-443c-cd9a-bd3332fdc98a"
      },
      "execution_count": null,
      "outputs": [
        {
          "output_type": "execute_result",
          "data": {
            "text/plain": [
              "array(['Basketball', 'Judo', 'Football', 'Tug-Of-War', 'Athletics',\n",
              "       'Swimming', 'Badminton', 'Sailing', 'Gymnastics',\n",
              "       'Art Competitions', 'Handball', 'Weightlifting', 'Wrestling',\n",
              "       'Water Polo', 'Hockey', 'Rowing', 'Fencing', 'Equestrianism',\n",
              "       'Shooting', 'Boxing', 'Taekwondo', 'Cycling', 'Diving', 'Canoeing',\n",
              "       'Tennis', 'Modern Pentathlon', 'Golf', 'Softball', 'Archery',\n",
              "       'Volleyball', 'Synchronized Swimming', 'Table Tennis', 'Baseball',\n",
              "       'Rhythmic Gymnastics', 'Rugby Sevens', 'Trampolining',\n",
              "       'Beach Volleyball', 'Triathlon', 'Rugby', 'Lacrosse', 'Polo',\n",
              "       'Cricket', 'Ice Hockey', 'Racquets', 'Motorboating', 'Croquet',\n",
              "       'Figure Skating', 'Jeu De Paume', 'Roque', 'Basque Pelota',\n",
              "       'Alpinism', 'Aeronautics', 'Cycling Road', 'Artistic Gymnastics',\n",
              "       'Karate', 'Baseball/Softball', 'Trampoline Gymnastics',\n",
              "       'Marathon Swimming', 'Canoe Slalom', 'Surfing', 'Canoe Sprint',\n",
              "       'Cycling BMX Racing', 'Equestrian', 'Artistic Swimming',\n",
              "       'Cycling Track', 'Skateboarding', 'Cycling Mountain Bike',\n",
              "       '3x3 Basketball', 'Cycling BMX Freestyle', 'Sport Climbing',\n",
              "       'Speed Skating', 'Cross Country Skiing', 'Biathlon',\n",
              "       'Alpine Skiing', 'Luge', 'Bobsleigh', 'Nordic Combined',\n",
              "       'Freestyle Skiing', 'Ski Jumping', 'Curling', 'Snowboarding',\n",
              "       'Short Track Speed Skating', 'Skeleton', 'Military Ski Patrol'],\n",
              "      dtype=object)"
            ]
          },
          "metadata": {},
          "execution_count": 38
        }
      ]
    },
    {
      "cell_type": "code",
      "source": [
        "values = np.arange(len(sports))\n",
        "values_to_replace = dict(zip(sports, values))\n",
        "data_df[\"Sport\"].replace(values_to_replace, inplace = True)\n",
        "data_df.Sport.unique()"
      ],
      "metadata": {
        "colab": {
          "base_uri": "https://localhost:8080/"
        },
        "id": "fJjWHK-tpLLo",
        "outputId": "800a267a-9a73-4527-bf6c-a6a8573d5459"
      },
      "execution_count": null,
      "outputs": [
        {
          "output_type": "execute_result",
          "data": {
            "text/plain": [
              "array([ 0,  1,  2,  3,  4,  5,  6,  7,  8,  9, 10, 11, 12, 13, 14, 15, 16,\n",
              "       17, 18, 19, 20, 21, 22, 23, 24, 25, 26, 27, 28, 29, 30, 31, 32, 33,\n",
              "       34, 35, 36, 37, 38, 39, 40, 41, 42, 43, 44, 45, 46, 47, 48, 49, 50,\n",
              "       51, 52, 53, 54, 55, 56, 57, 58, 59, 60, 61, 62, 63, 64, 65, 66, 67,\n",
              "       68, 69, 70, 71, 72, 73, 74, 75, 76, 77, 78, 79, 80, 81, 82, 83])"
            ]
          },
          "metadata": {},
          "execution_count": 39
        }
      ]
    },
    {
      "cell_type": "markdown",
      "source": [
        "### **Age**"
      ],
      "metadata": {
        "id": "L4ap-3tSCamp"
      }
    },
    {
      "cell_type": "code",
      "source": [
        "data_df.Age.isnull().sum()/data_df.shape[0]"
      ],
      "metadata": {
        "colab": {
          "base_uri": "https://localhost:8080/"
        },
        "id": "7t7HmZqxpNPQ",
        "outputId": "1d1003cd-5197-40c4-b79b-00443e3996f6"
      },
      "execution_count": null,
      "outputs": [
        {
          "output_type": "execute_result",
          "data": {
            "text/plain": [
              "0.03309844639232524"
            ]
          },
          "metadata": {},
          "execution_count": 40
        }
      ]
    },
    {
      "cell_type": "code",
      "source": [
        "median_age = np.nanmedian(data_df[\"Age\"])\n",
        "median_age"
      ],
      "metadata": {
        "colab": {
          "base_uri": "https://localhost:8080/"
        },
        "id": "vG8rc8rdpXYj",
        "outputId": "7fc057b8-cc53-4b47-87dc-e17390d346a0"
      },
      "execution_count": null,
      "outputs": [
        {
          "output_type": "execute_result",
          "data": {
            "text/plain": [
              "25.0"
            ]
          },
          "metadata": {},
          "execution_count": 41
        }
      ]
    },
    {
      "cell_type": "code",
      "source": [
        "data_df.loc[data_df[\"Age\"].isnull(),\"Age\"] = median_age\n",
        "data_df.Age.isnull().sum()/data_df.shape[0]"
      ],
      "metadata": {
        "colab": {
          "base_uri": "https://localhost:8080/"
        },
        "id": "kk7t1Gg0pZOl",
        "outputId": "f1a8626d-3f3f-454c-d697-0339b9e06dd3"
      },
      "execution_count": null,
      "outputs": [
        {
          "output_type": "execute_result",
          "data": {
            "text/plain": [
              "0.0"
            ]
          },
          "metadata": {},
          "execution_count": 103
        }
      ]
    },
    {
      "cell_type": "markdown",
      "source": [
        "### **Check dataset and convert to float**"
      ],
      "metadata": {
        "id": "9wnJPaW4Cd5K"
      }
    },
    {
      "cell_type": "code",
      "source": [
        "data_df.dtypes"
      ],
      "metadata": {
        "colab": {
          "base_uri": "https://localhost:8080/"
        },
        "id": "IGsyiBnbpcHp",
        "outputId": "a559c75a-9176-404e-ab31-4a680edf619a"
      },
      "execution_count": null,
      "outputs": [
        {
          "output_type": "execute_result",
          "data": {
            "text/plain": [
              "Sex       float64\n",
              "Age       float64\n",
              "Team        int64\n",
              "NOC         int64\n",
              "Season      int64\n",
              "City        int64\n",
              "Sport       int64\n",
              "Event       int64\n",
              "Medal     float64\n",
              "dtype: object"
            ]
          },
          "metadata": {},
          "execution_count": 43
        }
      ]
    },
    {
      "cell_type": "code",
      "source": [
        "data_df[\"Team\"]   = data_df.loc[:,\"Team\"].astype(float)\n",
        "data_df[\"NOC\"]    = data_df.loc[:, \"NOC\"].astype(float)\n",
        "data_df[\"Season\"] = data_df.loc[:, \"Season\"].astype(float)\n",
        "data_df[\"City\"] = data_df.loc[:, \"City\"].astype(float)\n",
        "data_df[\"Sport\"] = data_df.loc[:, \"Sport\"].astype(float)\n",
        "data_df[\"Event\"] = data_df.loc[:, \"Event\"].astype(float)\n",
        "\n",
        "\n",
        "data_df.dtypes"
      ],
      "metadata": {
        "colab": {
          "base_uri": "https://localhost:8080/"
        },
        "id": "JgTNsEglpgbn",
        "outputId": "52dfa48a-904f-46ff-d03b-43481c68e5f6"
      },
      "execution_count": null,
      "outputs": [
        {
          "output_type": "execute_result",
          "data": {
            "text/plain": [
              "Sex       float64\n",
              "Age       float64\n",
              "Team      float64\n",
              "NOC       float64\n",
              "Season    float64\n",
              "City      float64\n",
              "Sport     float64\n",
              "Event     float64\n",
              "Medal     float64\n",
              "dtype: object"
            ]
          },
          "metadata": {},
          "execution_count": 44
        }
      ]
    },
    {
      "cell_type": "markdown",
      "source": [
        "### **Split Dataset into training , validation and datasets**"
      ],
      "metadata": {
        "id": "G7KTNXxmCkn-"
      }
    },
    {
      "cell_type": "code",
      "source": [
        "y_col = \"Medal\"\n",
        "y_col"
      ],
      "metadata": {
        "colab": {
          "base_uri": "https://localhost:8080/",
          "height": 36
        },
        "id": "6p7RCoPNpjKA",
        "outputId": "41c0b8e7-889d-4af9-a51a-b62687e98565"
      },
      "execution_count": null,
      "outputs": [
        {
          "output_type": "execute_result",
          "data": {
            "text/plain": [
              "'Medal'"
            ],
            "application/vnd.google.colaboratory.intrinsic+json": {
              "type": "string"
            }
          },
          "metadata": {},
          "execution_count": 45
        }
      ]
    },
    {
      "cell_type": "code",
      "source": [
        "x_cols =['Sex', 'Age', 'Team', 'NOC', 'Season', 'City', 'Sport', 'Event']\n",
        "x_cols"
      ],
      "metadata": {
        "colab": {
          "base_uri": "https://localhost:8080/"
        },
        "id": "9YL7JG3MplsV",
        "outputId": "b7eaff79-d54b-454e-afa5-32374068eb26"
      },
      "execution_count": null,
      "outputs": [
        {
          "output_type": "execute_result",
          "data": {
            "text/plain": [
              "['Sex', 'Age', 'Team', 'NOC', 'Season', 'City', 'Sport', 'Event']"
            ]
          },
          "metadata": {},
          "execution_count": 46
        }
      ]
    },
    {
      "cell_type": "code",
      "source": [
        "X = data_df.copy(deep = True)\n",
        "X.shape"
      ],
      "metadata": {
        "colab": {
          "base_uri": "https://localhost:8080/"
        },
        "id": "YTM_IC2Ppnqx",
        "outputId": "8bb42324-b551-4f24-8bad-d88090f7b9c1"
      },
      "execution_count": null,
      "outputs": [
        {
          "output_type": "execute_result",
          "data": {
            "text/plain": [
              "(286237, 9)"
            ]
          },
          "metadata": {},
          "execution_count": 47
        }
      ]
    },
    {
      "cell_type": "code",
      "source": [
        "y = data_df[y_col].apply(pd.to_numeric)\n",
        "y"
      ],
      "metadata": {
        "colab": {
          "base_uri": "https://localhost:8080/"
        },
        "id": "wT2mjYAlppTy",
        "outputId": "fdec091e-f8b4-4b09-d66e-4e56431f42fd"
      },
      "execution_count": null,
      "outputs": [
        {
          "output_type": "execute_result",
          "data": {
            "text/plain": [
              "0        0.0\n",
              "1        0.0\n",
              "2        0.0\n",
              "3        1.0\n",
              "4        0.0\n",
              "        ... \n",
              "48559    0.0\n",
              "48560    0.0\n",
              "48561    0.0\n",
              "48562    0.0\n",
              "48563    0.0\n",
              "Name: Medal, Length: 286237, dtype: float64"
            ]
          },
          "metadata": {},
          "execution_count": 48
        }
      ]
    },
    {
      "cell_type": "code",
      "source": [
        "X = X[x_cols]\n",
        "X.shape"
      ],
      "metadata": {
        "colab": {
          "base_uri": "https://localhost:8080/"
        },
        "id": "rhzOvghNprUH",
        "outputId": "a67e4c4c-3a5c-467a-e79d-c7153628f095"
      },
      "execution_count": null,
      "outputs": [
        {
          "output_type": "execute_result",
          "data": {
            "text/plain": [
              "(286237, 8)"
            ]
          },
          "metadata": {},
          "execution_count": 49
        }
      ]
    },
    {
      "cell_type": "code",
      "source": [
        "split = StratifiedShuffleSplit(n_splits=1, test_size=0.4, random_state=42)\n",
        "for train_index, test_valid_index in split.split(X, y):\n",
        "    X_train = X.iloc[train_index]\n",
        "    y_train = y.iloc[train_index]\n",
        "    X_valid  = X.iloc[test_valid_index]\n",
        "    y_valid  = y.iloc[test_valid_index]"
      ],
      "metadata": {
        "id": "6S40lXZCptJP"
      },
      "execution_count": null,
      "outputs": []
    },
    {
      "cell_type": "code",
      "source": [
        "print(\"X_train: \", X_train.shape)\n",
        "print(\"y_train: \", y_train.shape)\n",
        "print(\"X_valid: \", X_valid.shape)\n",
        "print(\"y_valid: \", y_valid.shape)"
      ],
      "metadata": {
        "colab": {
          "base_uri": "https://localhost:8080/"
        },
        "id": "gD-UUf79pvG4",
        "outputId": "20d5be55-ca47-4195-f57f-61db6f151e27"
      },
      "execution_count": null,
      "outputs": [
        {
          "output_type": "stream",
          "name": "stdout",
          "text": [
            "X_train:  (171742, 8)\n",
            "y_train:  (171742,)\n",
            "X_valid:  (114495, 8)\n",
            "y_valid:  (114495,)\n"
          ]
        }
      ]
    },
    {
      "cell_type": "code",
      "source": [
        "split = StratifiedShuffleSplit(n_splits=1, test_size=0.5, random_state=42)\n",
        "for valid_index, test_index in split.split(X_valid, y_valid):\n",
        "    X_valid = X.iloc[valid_index]\n",
        "    y_valid = y.iloc[valid_index]\n",
        "    X_test  = X.iloc[test_index]\n",
        "    y_test  = y.iloc[test_index]\n",
        "\n",
        "print(\"X_test: \", X_test.shape)\n",
        "print(\"y_test: \", y_test.shape)\n",
        "print(\"X_valid: \", X_valid.shape)\n",
        "print(\"y_valid: \", y_valid.shape)"
      ],
      "metadata": {
        "colab": {
          "base_uri": "https://localhost:8080/"
        },
        "id": "TDoGYATHpxQO",
        "outputId": "4ef8e946-477e-436c-a7d4-13aee826cb65"
      },
      "execution_count": null,
      "outputs": [
        {
          "output_type": "stream",
          "name": "stdout",
          "text": [
            "X_test:  (57248, 8)\n",
            "y_test:  (57248,)\n",
            "X_valid:  (57247, 8)\n",
            "y_valid:  (57247,)\n"
          ]
        }
      ]
    },
    {
      "cell_type": "markdown",
      "source": [
        "### **Decision Tree Classifier**"
      ],
      "metadata": {
        "id": "OwcVID9FCreb"
      }
    },
    {
      "cell_type": "code",
      "source": [
        "clf = DecisionTreeClassifier(max_depth = 2, criterion =\"entropy\")\n",
        "# Train Decision Tree Classifer\n",
        "clf = clf.fit(X_train,y_train)\n",
        "train_score = clf.score(X_train,y_train)\n",
        "valid_score = clf.score(X_valid,y_valid)\n",
        "print(\"- depth : \", 2, \" - train score : \", train_score, \" -  valid score : \", valid_score)"
      ],
      "metadata": {
        "colab": {
          "base_uri": "https://localhost:8080/"
        },
        "id": "kqqxeSrdpz-1",
        "outputId": "9d40d179-ef27-46a7-8a81-607e1edbfcae"
      },
      "execution_count": null,
      "outputs": [
        {
          "output_type": "stream",
          "name": "stdout",
          "text": [
            "- depth :  2  - train score :  0.8524589209395489  -  valid score :  0.8479221618600101\n"
          ]
        }
      ]
    },
    {
      "cell_type": "code",
      "source": [
        "clf = DecisionTreeClassifier(max_depth = 4, criterion =\"entropy\")\n",
        "# Train Decision Tree Classifer\n",
        "clf = clf.fit(X_train,y_train)\n",
        "train_score = clf.score(X_train,y_train)\n",
        "valid_score = clf.score(X_valid,y_valid)\n",
        "print(\"- depth : \", 4, \" - train score : \", train_score, \" -  valid score : \", valid_score)"
      ],
      "metadata": {
        "colab": {
          "base_uri": "https://localhost:8080/"
        },
        "id": "RU_qtLkPp2Rt",
        "outputId": "ee0e3864-99f7-4914-aa82-96b05292ad2b"
      },
      "execution_count": null,
      "outputs": [
        {
          "output_type": "stream",
          "name": "stdout",
          "text": [
            "- depth :  4  - train score :  0.853675862631156  -  valid score :  0.849476828480095\n"
          ]
        }
      ]
    },
    {
      "cell_type": "code",
      "source": [
        "best_acc = 0.0\n",
        "depths   = range(5, 120, 1)\n",
        "for depth in depths:\n",
        "    clf = DecisionTreeClassifier(max_depth = depth, criterion =\"entropy\",class_weight={0:0.85,1:0.05,2:0.05,3:0.05})\n",
        "\n",
        "    # Train Decision Tree Classifer\n",
        "    clf = clf.fit(X_train,y_train)\n",
        "    train_score = clf.score(X_train,y_train)\n",
        "    valid_score = clf.score(X_valid,y_valid)\n",
        "    print(\"- depth : \", depth, \" - train score : \", train_score, \" -  valid score : \", valid_score)\n",
        "\n",
        "    if best_acc < valid_score:\n",
        "        print(\"--- new best accuracy found at \" , depth , \" depths ---\")\n",
        "        best_acc = valid_score"
      ],
      "metadata": {
        "colab": {
          "base_uri": "https://localhost:8080/"
        },
        "id": "3R35EmTDp4wC",
        "outputId": "949a9895-2ddb-455b-e7ed-8e5ed73551a3"
      },
      "execution_count": null,
      "outputs": [
        {
          "output_type": "stream",
          "name": "stdout",
          "text": [
            "- depth :  5  - train score :  0.8537049760687543  -  valid score :  0.8494593603158244\n",
            "--- new best accuracy found at  5  depths ---\n",
            "- depth :  6  - train score :  0.8537806710065098  -  valid score :  0.8495816374657187\n",
            "--- new best accuracy found at  6  depths ---\n",
            "- depth :  7  - train score :  0.8542581313831212  -  valid score :  0.8500532779010254\n",
            "--- new best accuracy found at  7  depths ---\n",
            "- depth :  8  - train score :  0.855265456324021  -  valid score :  0.8509790906073681\n",
            "--- new best accuracy found at  8  depths ---\n",
            "- depth :  9  - train score :  0.8572218793306239  -  valid score :  0.8526735025416179\n",
            "--- new best accuracy found at  9  depths ---\n",
            "- depth :  10  - train score :  0.8601041096528513  -  valid score :  0.8555382814819991\n",
            "--- new best accuracy found at  10  depths ---\n",
            "- depth :  11  - train score :  0.8642615085418826  -  valid score :  0.8592240641430992\n",
            "--- new best accuracy found at  11  depths ---\n",
            "- depth :  12  - train score :  0.8702122951869665  -  valid score :  0.8633290827466942\n",
            "--- new best accuracy found at  12  depths ---\n",
            "- depth :  13  - train score :  0.8771005345227143  -  valid score :  0.8687442136705854\n",
            "--- new best accuracy found at  13  depths ---\n",
            "- depth :  14  - train score :  0.884961162674244  -  valid score :  0.875050220972278\n",
            "--- new best accuracy found at  14  depths ---\n",
            "- depth :  15  - train score :  0.8943298668933632  -  valid score :  0.8829807675511381\n",
            "--- new best accuracy found at  15  depths ---\n",
            "- depth :  16  - train score :  0.9052648740552689  -  valid score :  0.891138400265516\n",
            "--- new best accuracy found at  16  depths ---\n",
            "- depth :  17  - train score :  0.9164851929056376  -  valid score :  0.8988069243803168\n",
            "--- new best accuracy found at  17  depths ---\n",
            "- depth :  18  - train score :  0.9278685470065563  -  valid score :  0.906597725645012\n",
            "--- new best accuracy found at  18  depths ---\n",
            "- depth :  19  - train score :  0.938535710542558  -  valid score :  0.9132530962321169\n",
            "--- new best accuracy found at  19  depths ---\n",
            "- depth :  20  - train score :  0.9488011086397038  -  valid score :  0.9197512533407864\n",
            "--- new best accuracy found at  20  depths ---\n",
            "- depth :  21  - train score :  0.9579077919204388  -  valid score :  0.9251663842646777\n",
            "--- new best accuracy found at  21  depths ---\n",
            "- depth :  22  - train score :  0.9656519663215754  -  valid score :  0.9288521669257778\n",
            "--- new best accuracy found at  22  depths ---\n",
            "- depth :  23  - train score :  0.9724994468446856  -  valid score :  0.932537949586878\n",
            "--- new best accuracy found at  23  depths ---\n",
            "- depth :  24  - train score :  0.9775942984243807  -  valid score :  0.9356647509913183\n",
            "--- new best accuracy found at  24  depths ---\n",
            "- depth :  25  - train score :  0.982520292066006  -  valid score :  0.937865739689416\n",
            "--- new best accuracy found at  25  depths ---\n",
            "- depth :  26  - train score :  0.9860080818902772  -  valid score :  0.9399095149090783\n",
            "--- new best accuracy found at  26  depths ---\n",
            "- depth :  27  - train score :  0.9889077802750638  -  valid score :  0.9406955823012559\n",
            "--- new best accuracy found at  27  depths ---\n",
            "- depth :  28  - train score :  0.9909224301568632  -  valid score :  0.9423026534141528\n",
            "--- new best accuracy found at  28  depths ---\n",
            "- depth :  29  - train score :  0.9923256978490992  -  valid score :  0.9425472077139413\n",
            "--- new best accuracy found at  29  depths ---\n",
            "- depth :  30  - train score :  0.9935077034155885  -  valid score :  0.9437175747200727\n",
            "--- new best accuracy found at  30  depths ---\n",
            "- depth :  31  - train score :  0.9941307309801912  -  valid score :  0.9439271926913201\n",
            "--- new best accuracy found at  31  depths ---\n",
            "- depth :  32  - train score :  0.9945033829814489  -  valid score :  0.9439446608555907\n",
            "--- new best accuracy found at  32  depths ---\n",
            "- depth :  33  - train score :  0.9947479358572743  -  valid score :  0.9441892151553793\n",
            "--- new best accuracy found at  33  depths ---\n",
            "- depth :  34  - train score :  0.994870212295187  -  valid score :  0.9442416196481912\n",
            "--- new best accuracy found at  34  depths ---\n",
            "- depth :  35  - train score :  0.9949167937953441  -  valid score :  0.944294024141003\n",
            "--- new best accuracy found at  35  depths ---\n",
            "- depth :  36  - train score :  0.9949750206705407  -  valid score :  0.9446259192621448\n",
            "--- new best accuracy found at  36  depths ---\n",
            "- depth :  37  - train score :  0.99498666604558  -  valid score :  0.9444163012908974\n",
            "- depth :  38  - train score :  0.9949983114206193  -  valid score :  0.9442416196481912\n",
            "- depth :  39  - train score :  0.9949983114206193  -  valid score :  0.9443289604695443\n",
            "- depth :  40  - train score :  0.9949983114206193  -  valid score :  0.9445735147693329\n",
            "- depth :  41  - train score :  0.9949983114206193  -  valid score :  0.944660855590686\n",
            "--- new best accuracy found at  41  depths ---\n",
            "- depth :  42  - train score :  0.9949983114206193  -  valid score :  0.9445735147693329\n",
            "- depth :  43  - train score :  0.9949983114206193  -  valid score :  0.9446259192621448\n",
            "- depth :  44  - train score :  0.9949983114206193  -  valid score :  0.9446084510978742\n",
            "- depth :  45  - train score :  0.9949983114206193  -  valid score :  0.944433769455168\n",
            "- depth :  46  - train score :  0.9949983114206193  -  valid score :  0.9444687057837092\n",
            "- depth :  47  - train score :  0.9949983114206193  -  valid score :  0.9443813649623561\n",
            "- depth :  48  - train score :  0.9949983114206193  -  valid score :  0.9444512376194386\n",
            "- depth :  49  - train score :  0.9949983114206193  -  valid score :  0.9442765559767324\n",
            "- depth :  50  - train score :  0.9949983114206193  -  valid score :  0.9443988331266268\n",
            "- depth :  51  - train score :  0.9949983114206193  -  valid score :  0.9446783237549566\n",
            "--- new best accuracy found at  51  depths ---\n",
            "- depth :  52  - train score :  0.9949983114206193  -  valid score :  0.9445211102765211\n",
            "- depth :  53  - train score :  0.9949983114206193  -  valid score :  0.9446783237549566\n",
            "- depth :  54  - train score :  0.9949983114206193  -  valid score :  0.9441368106625675\n",
            "- depth :  55  - train score :  0.9949983114206193  -  valid score :  0.9442416196481912\n",
            "- depth :  56  - train score :  0.9949983114206193  -  valid score :  0.9441193424982969\n",
            "- depth :  57  - train score :  0.9949983114206193  -  valid score :  0.9441542788268381\n",
            "- depth :  58  - train score :  0.9949983114206193  -  valid score :  0.944433769455168\n",
            "- depth :  59  - train score :  0.9949983114206193  -  valid score :  0.9445735147693329\n",
            "- depth :  60  - train score :  0.9949983114206193  -  valid score :  0.9446084510978742\n",
            "- depth :  61  - train score :  0.9949983114206193  -  valid score :  0.9441018743340263\n",
            "- depth :  62  - train score :  0.9949983114206193  -  valid score :  0.944660855590686\n",
            "- depth :  63  - train score :  0.9949983114206193  -  valid score :  0.9439271926913201\n",
            "- depth :  64  - train score :  0.9949983114206193  -  valid score :  0.944800600904851\n",
            "--- new best accuracy found at  64  depths ---\n",
            "- depth :  65  - train score :  0.9949983114206193  -  valid score :  0.9449054098904746\n",
            "--- new best accuracy found at  65  depths ---\n",
            "- depth :  66  - train score :  0.9949983114206193  -  valid score :  0.9443114923052737\n",
            "- depth :  67  - train score :  0.9949983114206193  -  valid score :  0.9446259192621448\n",
            "- depth :  68  - train score :  0.9949983114206193  -  valid score :  0.9442241514839206\n",
            "- depth :  69  - train score :  0.9949983114206193  -  valid score :  0.9445036421122505\n",
            "- depth :  70  - train score :  0.9949983114206193  -  valid score :  0.9444687057837092\n",
            "- depth :  71  - train score :  0.9949983114206193  -  valid score :  0.9448355372333922\n",
            "- depth :  72  - train score :  0.9949983114206193  -  valid score :  0.9446259192621448\n",
            "- depth :  73  - train score :  0.9949983114206193  -  valid score :  0.9444163012908974\n",
            "- depth :  74  - train score :  0.9949983114206193  -  valid score :  0.944433769455168\n",
            "- depth :  75  - train score :  0.9949983114206193  -  valid score :  0.9446259192621448\n",
            "- depth :  76  - train score :  0.9949983114206193  -  valid score :  0.944660855590686\n",
            "- depth :  77  - train score :  0.9949983114206193  -  valid score :  0.9446259192621448\n",
            "- depth :  78  - train score :  0.9949983114206193  -  valid score :  0.944294024141003\n",
            "- depth :  79  - train score :  0.9949983114206193  -  valid score :  0.9445036421122505\n",
            "- depth :  80  - train score :  0.9949983114206193  -  valid score :  0.9445560466050623\n",
            "- depth :  81  - train score :  0.9949983114206193  -  valid score :  0.9443988331266268\n",
            "- depth :  82  - train score :  0.9949983114206193  -  valid score :  0.9443988331266268\n",
            "- depth :  83  - train score :  0.9949983114206193  -  valid score :  0.9443813649623561\n",
            "- depth :  84  - train score :  0.9949983114206193  -  valid score :  0.9442416196481912\n",
            "- depth :  85  - train score :  0.9949983114206193  -  valid score :  0.9443813649623561\n",
            "- depth :  86  - train score :  0.9949983114206193  -  valid score :  0.9444163012908974\n",
            "- depth :  87  - train score :  0.9949983114206193  -  valid score :  0.9447831327405803\n",
            "- depth :  88  - train score :  0.9949983114206193  -  valid score :  0.9445560466050623\n",
            "- depth :  89  - train score :  0.9949983114206193  -  valid score :  0.9445385784407917\n",
            "- depth :  90  - train score :  0.9949983114206193  -  valid score :  0.9445909829336036\n",
            "- depth :  91  - train score :  0.9949983114206193  -  valid score :  0.9443114923052737\n",
            "- depth :  92  - train score :  0.9949983114206193  -  valid score :  0.9445735147693329\n",
            "- depth :  93  - train score :  0.9949983114206193  -  valid score :  0.9443813649623561\n",
            "- depth :  94  - train score :  0.9949983114206193  -  valid score :  0.9441018743340263\n",
            "- depth :  95  - train score :  0.9949983114206193  -  valid score :  0.9441892151553793\n",
            "- depth :  96  - train score :  0.9949983114206193  -  valid score :  0.9447831327405803\n",
            "- depth :  97  - train score :  0.9949983114206193  -  valid score :  0.944660855590686\n",
            "- depth :  98  - train score :  0.9949983114206193  -  valid score :  0.9441018743340263\n",
            "- depth :  99  - train score :  0.9949983114206193  -  valid score :  0.944660855590686\n",
            "- depth :  100  - train score :  0.9949983114206193  -  valid score :  0.9444512376194386\n",
            "- depth :  101  - train score :  0.9949983114206193  -  valid score :  0.9441018743340263\n",
            "- depth :  102  - train score :  0.9949983114206193  -  valid score :  0.9443289604695443\n",
            "- depth :  103  - train score :  0.9949983114206193  -  valid score :  0.9445385784407917\n",
            "- depth :  104  - train score :  0.9949983114206193  -  valid score :  0.9441193424982969\n",
            "- depth :  105  - train score :  0.9949983114206193  -  valid score :  0.9448180690691216\n",
            "- depth :  106  - train score :  0.9949983114206193  -  valid score :  0.9445560466050623\n",
            "- depth :  107  - train score :  0.9949983114206193  -  valid score :  0.944660855590686\n",
            "- depth :  108  - train score :  0.9949983114206193  -  valid score :  0.9440320016769438\n",
            "- depth :  109  - train score :  0.9949983114206193  -  valid score :  0.9444163012908974\n",
            "- depth :  110  - train score :  0.9949983114206193  -  valid score :  0.9443988331266268\n",
            "- depth :  111  - train score :  0.9949983114206193  -  valid score :  0.9444163012908974\n",
            "- depth :  112  - train score :  0.9949983114206193  -  valid score :  0.9445211102765211\n",
            "- depth :  113  - train score :  0.9949983114206193  -  valid score :  0.9443114923052737\n",
            "- depth :  114  - train score :  0.9949983114206193  -  valid score :  0.9442765559767324\n",
            "- depth :  115  - train score :  0.9949983114206193  -  valid score :  0.9447307282477685\n",
            "- depth :  116  - train score :  0.9949983114206193  -  valid score :  0.944433769455168\n",
            "- depth :  117  - train score :  0.9949983114206193  -  valid score :  0.9443464286338149\n",
            "- depth :  118  - train score :  0.9949983114206193  -  valid score :  0.9446433874264154\n",
            "- depth :  119  - train score :  0.9949983114206193  -  valid score :  0.9445036421122505\n"
          ]
        }
      ]
    },
    {
      "cell_type": "code",
      "source": [
        "clf = DecisionTreeClassifier(max_depth = 115, criterion =\"entropy\", class_weight={0:0.85,1:0.05,2:0.05,3:0.05})\n",
        "\n",
        "# Train Decision Tree Classifer\n",
        "clf = clf.fit(X_train,y_train)\n",
        "clf_train_score = clf.score(X_train,y_train)\n",
        "clf_valid_score = clf.score(X_valid,y_valid)\n",
        "print(\"- depth : \", 115, \" - train score : \", clf_train_score, \" -  valid score : \", clf_valid_score)"
      ],
      "metadata": {
        "colab": {
          "base_uri": "https://localhost:8080/"
        },
        "id": "J09k1vj4p858",
        "outputId": "9a8eb9a8-c0f9-4969-a2ec-110609427365"
      },
      "execution_count": null,
      "outputs": [
        {
          "output_type": "stream",
          "name": "stdout",
          "text": [
            "- depth :  115  - train score :  0.9949983114206193  -  valid score :  0.9444163012908974\n"
          ]
        }
      ]
    },
    {
      "cell_type": "code",
      "source": [
        "y_pred = clf.predict(X_valid)\n",
        "y_pred"
      ],
      "metadata": {
        "colab": {
          "base_uri": "https://localhost:8080/"
        },
        "id": "pxVnliO6q2Qv",
        "outputId": "837f7631-a5f7-4c82-b7a1-789e94d36d38"
      },
      "execution_count": null,
      "outputs": [
        {
          "output_type": "execute_result",
          "data": {
            "text/plain": [
              "array([0., 0., 2., ..., 0., 2., 2.])"
            ]
          },
          "metadata": {},
          "execution_count": 57
        }
      ]
    },
    {
      "cell_type": "code",
      "source": [
        "importances = clf.feature_importances_\n",
        "importances =  pd.DataFrame(x_cols, importances)\n",
        "importances"
      ],
      "metadata": {
        "colab": {
          "base_uri": "https://localhost:8080/",
          "height": 300
        },
        "id": "eHFIck-bq5Fd",
        "outputId": "b5c493f9-efa1-4dbb-f76a-7b08d2d768a1"
      },
      "execution_count": null,
      "outputs": [
        {
          "output_type": "execute_result",
          "data": {
            "text/plain": [
              "               0\n",
              "0.021451     Sex\n",
              "0.163674     Age\n",
              "0.081812    Team\n",
              "0.082487     NOC\n",
              "0.000842  Season\n",
              "0.278736    City\n",
              "0.112623   Sport\n",
              "0.258375   Event"
            ],
            "text/html": [
              "\n",
              "  <div id=\"df-14393905-c0ce-4950-85bd-8c76f6bde724\" class=\"colab-df-container\">\n",
              "    <div>\n",
              "<style scoped>\n",
              "    .dataframe tbody tr th:only-of-type {\n",
              "        vertical-align: middle;\n",
              "    }\n",
              "\n",
              "    .dataframe tbody tr th {\n",
              "        vertical-align: top;\n",
              "    }\n",
              "\n",
              "    .dataframe thead th {\n",
              "        text-align: right;\n",
              "    }\n",
              "</style>\n",
              "<table border=\"1\" class=\"dataframe\">\n",
              "  <thead>\n",
              "    <tr style=\"text-align: right;\">\n",
              "      <th></th>\n",
              "      <th>0</th>\n",
              "    </tr>\n",
              "  </thead>\n",
              "  <tbody>\n",
              "    <tr>\n",
              "      <th>0.021451</th>\n",
              "      <td>Sex</td>\n",
              "    </tr>\n",
              "    <tr>\n",
              "      <th>0.163674</th>\n",
              "      <td>Age</td>\n",
              "    </tr>\n",
              "    <tr>\n",
              "      <th>0.081812</th>\n",
              "      <td>Team</td>\n",
              "    </tr>\n",
              "    <tr>\n",
              "      <th>0.082487</th>\n",
              "      <td>NOC</td>\n",
              "    </tr>\n",
              "    <tr>\n",
              "      <th>0.000842</th>\n",
              "      <td>Season</td>\n",
              "    </tr>\n",
              "    <tr>\n",
              "      <th>0.278736</th>\n",
              "      <td>City</td>\n",
              "    </tr>\n",
              "    <tr>\n",
              "      <th>0.112623</th>\n",
              "      <td>Sport</td>\n",
              "    </tr>\n",
              "    <tr>\n",
              "      <th>0.258375</th>\n",
              "      <td>Event</td>\n",
              "    </tr>\n",
              "  </tbody>\n",
              "</table>\n",
              "</div>\n",
              "    <div class=\"colab-df-buttons\">\n",
              "\n",
              "  <div class=\"colab-df-container\">\n",
              "    <button class=\"colab-df-convert\" onclick=\"convertToInteractive('df-14393905-c0ce-4950-85bd-8c76f6bde724')\"\n",
              "            title=\"Convert this dataframe to an interactive table.\"\n",
              "            style=\"display:none;\">\n",
              "\n",
              "  <svg xmlns=\"http://www.w3.org/2000/svg\" height=\"24px\" viewBox=\"0 -960 960 960\">\n",
              "    <path d=\"M120-120v-720h720v720H120Zm60-500h600v-160H180v160Zm220 220h160v-160H400v160Zm0 220h160v-160H400v160ZM180-400h160v-160H180v160Zm440 0h160v-160H620v160ZM180-180h160v-160H180v160Zm440 0h160v-160H620v160Z\"/>\n",
              "  </svg>\n",
              "    </button>\n",
              "\n",
              "  <style>\n",
              "    .colab-df-container {\n",
              "      display:flex;\n",
              "      gap: 12px;\n",
              "    }\n",
              "\n",
              "    .colab-df-convert {\n",
              "      background-color: #E8F0FE;\n",
              "      border: none;\n",
              "      border-radius: 50%;\n",
              "      cursor: pointer;\n",
              "      display: none;\n",
              "      fill: #1967D2;\n",
              "      height: 32px;\n",
              "      padding: 0 0 0 0;\n",
              "      width: 32px;\n",
              "    }\n",
              "\n",
              "    .colab-df-convert:hover {\n",
              "      background-color: #E2EBFA;\n",
              "      box-shadow: 0px 1px 2px rgba(60, 64, 67, 0.3), 0px 1px 3px 1px rgba(60, 64, 67, 0.15);\n",
              "      fill: #174EA6;\n",
              "    }\n",
              "\n",
              "    .colab-df-buttons div {\n",
              "      margin-bottom: 4px;\n",
              "    }\n",
              "\n",
              "    [theme=dark] .colab-df-convert {\n",
              "      background-color: #3B4455;\n",
              "      fill: #D2E3FC;\n",
              "    }\n",
              "\n",
              "    [theme=dark] .colab-df-convert:hover {\n",
              "      background-color: #434B5C;\n",
              "      box-shadow: 0px 1px 3px 1px rgba(0, 0, 0, 0.15);\n",
              "      filter: drop-shadow(0px 1px 2px rgba(0, 0, 0, 0.3));\n",
              "      fill: #FFFFFF;\n",
              "    }\n",
              "  </style>\n",
              "\n",
              "    <script>\n",
              "      const buttonEl =\n",
              "        document.querySelector('#df-14393905-c0ce-4950-85bd-8c76f6bde724 button.colab-df-convert');\n",
              "      buttonEl.style.display =\n",
              "        google.colab.kernel.accessAllowed ? 'block' : 'none';\n",
              "\n",
              "      async function convertToInteractive(key) {\n",
              "        const element = document.querySelector('#df-14393905-c0ce-4950-85bd-8c76f6bde724');\n",
              "        const dataTable =\n",
              "          await google.colab.kernel.invokeFunction('convertToInteractive',\n",
              "                                                    [key], {});\n",
              "        if (!dataTable) return;\n",
              "\n",
              "        const docLinkHtml = 'Like what you see? Visit the ' +\n",
              "          '<a target=\"_blank\" href=https://colab.research.google.com/notebooks/data_table.ipynb>data table notebook</a>'\n",
              "          + ' to learn more about interactive tables.';\n",
              "        element.innerHTML = '';\n",
              "        dataTable['output_type'] = 'display_data';\n",
              "        await google.colab.output.renderOutput(dataTable, element);\n",
              "        const docLink = document.createElement('div');\n",
              "        docLink.innerHTML = docLinkHtml;\n",
              "        element.appendChild(docLink);\n",
              "      }\n",
              "    </script>\n",
              "  </div>\n",
              "\n",
              "\n",
              "<div id=\"df-39c038f4-addc-4b40-a721-8d6eb6f5f1a7\">\n",
              "  <button class=\"colab-df-quickchart\" onclick=\"quickchart('df-39c038f4-addc-4b40-a721-8d6eb6f5f1a7')\"\n",
              "            title=\"Suggest charts.\"\n",
              "            style=\"display:none;\">\n",
              "\n",
              "<svg xmlns=\"http://www.w3.org/2000/svg\" height=\"24px\"viewBox=\"0 0 24 24\"\n",
              "     width=\"24px\">\n",
              "    <g>\n",
              "        <path d=\"M19 3H5c-1.1 0-2 .9-2 2v14c0 1.1.9 2 2 2h14c1.1 0 2-.9 2-2V5c0-1.1-.9-2-2-2zM9 17H7v-7h2v7zm4 0h-2V7h2v10zm4 0h-2v-4h2v4z\"/>\n",
              "    </g>\n",
              "</svg>\n",
              "  </button>\n",
              "\n",
              "<style>\n",
              "  .colab-df-quickchart {\n",
              "      --bg-color: #E8F0FE;\n",
              "      --fill-color: #1967D2;\n",
              "      --hover-bg-color: #E2EBFA;\n",
              "      --hover-fill-color: #174EA6;\n",
              "      --disabled-fill-color: #AAA;\n",
              "      --disabled-bg-color: #DDD;\n",
              "  }\n",
              "\n",
              "  [theme=dark] .colab-df-quickchart {\n",
              "      --bg-color: #3B4455;\n",
              "      --fill-color: #D2E3FC;\n",
              "      --hover-bg-color: #434B5C;\n",
              "      --hover-fill-color: #FFFFFF;\n",
              "      --disabled-bg-color: #3B4455;\n",
              "      --disabled-fill-color: #666;\n",
              "  }\n",
              "\n",
              "  .colab-df-quickchart {\n",
              "    background-color: var(--bg-color);\n",
              "    border: none;\n",
              "    border-radius: 50%;\n",
              "    cursor: pointer;\n",
              "    display: none;\n",
              "    fill: var(--fill-color);\n",
              "    height: 32px;\n",
              "    padding: 0;\n",
              "    width: 32px;\n",
              "  }\n",
              "\n",
              "  .colab-df-quickchart:hover {\n",
              "    background-color: var(--hover-bg-color);\n",
              "    box-shadow: 0 1px 2px rgba(60, 64, 67, 0.3), 0 1px 3px 1px rgba(60, 64, 67, 0.15);\n",
              "    fill: var(--button-hover-fill-color);\n",
              "  }\n",
              "\n",
              "  .colab-df-quickchart-complete:disabled,\n",
              "  .colab-df-quickchart-complete:disabled:hover {\n",
              "    background-color: var(--disabled-bg-color);\n",
              "    fill: var(--disabled-fill-color);\n",
              "    box-shadow: none;\n",
              "  }\n",
              "\n",
              "  .colab-df-spinner {\n",
              "    border: 2px solid var(--fill-color);\n",
              "    border-color: transparent;\n",
              "    border-bottom-color: var(--fill-color);\n",
              "    animation:\n",
              "      spin 1s steps(1) infinite;\n",
              "  }\n",
              "\n",
              "  @keyframes spin {\n",
              "    0% {\n",
              "      border-color: transparent;\n",
              "      border-bottom-color: var(--fill-color);\n",
              "      border-left-color: var(--fill-color);\n",
              "    }\n",
              "    20% {\n",
              "      border-color: transparent;\n",
              "      border-left-color: var(--fill-color);\n",
              "      border-top-color: var(--fill-color);\n",
              "    }\n",
              "    30% {\n",
              "      border-color: transparent;\n",
              "      border-left-color: var(--fill-color);\n",
              "      border-top-color: var(--fill-color);\n",
              "      border-right-color: var(--fill-color);\n",
              "    }\n",
              "    40% {\n",
              "      border-color: transparent;\n",
              "      border-right-color: var(--fill-color);\n",
              "      border-top-color: var(--fill-color);\n",
              "    }\n",
              "    60% {\n",
              "      border-color: transparent;\n",
              "      border-right-color: var(--fill-color);\n",
              "    }\n",
              "    80% {\n",
              "      border-color: transparent;\n",
              "      border-right-color: var(--fill-color);\n",
              "      border-bottom-color: var(--fill-color);\n",
              "    }\n",
              "    90% {\n",
              "      border-color: transparent;\n",
              "      border-bottom-color: var(--fill-color);\n",
              "    }\n",
              "  }\n",
              "</style>\n",
              "\n",
              "  <script>\n",
              "    async function quickchart(key) {\n",
              "      const quickchartButtonEl =\n",
              "        document.querySelector('#' + key + ' button');\n",
              "      quickchartButtonEl.disabled = true;  // To prevent multiple clicks.\n",
              "      quickchartButtonEl.classList.add('colab-df-spinner');\n",
              "      try {\n",
              "        const charts = await google.colab.kernel.invokeFunction(\n",
              "            'suggestCharts', [key], {});\n",
              "      } catch (error) {\n",
              "        console.error('Error during call to suggestCharts:', error);\n",
              "      }\n",
              "      quickchartButtonEl.classList.remove('colab-df-spinner');\n",
              "      quickchartButtonEl.classList.add('colab-df-quickchart-complete');\n",
              "    }\n",
              "    (() => {\n",
              "      let quickchartButtonEl =\n",
              "        document.querySelector('#df-39c038f4-addc-4b40-a721-8d6eb6f5f1a7 button');\n",
              "      quickchartButtonEl.style.display =\n",
              "        google.colab.kernel.accessAllowed ? 'block' : 'none';\n",
              "    })();\n",
              "  </script>\n",
              "</div>\n",
              "    </div>\n",
              "  </div>\n"
            ]
          },
          "metadata": {},
          "execution_count": 58
        }
      ]
    },
    {
      "cell_type": "code",
      "source": [
        "print(metrics.classification_report(y_pred, y_valid))"
      ],
      "metadata": {
        "colab": {
          "base_uri": "https://localhost:8080/"
        },
        "id": "e1QPVz-eq_g-",
        "outputId": "59a00781-92e8-48aa-90e3-83e19c7152d0"
      },
      "execution_count": null,
      "outputs": [
        {
          "output_type": "stream",
          "name": "stdout",
          "text": [
            "              precision    recall  f1-score   support\n",
            "\n",
            "         0.0       0.97      0.97      0.97     48514\n",
            "         1.0       0.81      0.82      0.82      2886\n",
            "         2.0       0.80      0.80      0.80      2911\n",
            "         3.0       0.77      0.76      0.76      2936\n",
            "\n",
            "    accuracy                           0.94     57247\n",
            "   macro avg       0.84      0.84      0.84     57247\n",
            "weighted avg       0.94      0.94      0.94     57247\n",
            "\n"
          ]
        }
      ]
    },
    {
      "cell_type": "code",
      "source": [
        "y_pred_valid = clf.predict(X_valid)\n",
        "cm = confusion_matrix(y_valid, y_pred)\n",
        "cm"
      ],
      "metadata": {
        "colab": {
          "base_uri": "https://localhost:8080/"
        },
        "id": "i5Nyy4uprCQu",
        "outputId": "ba4b1c5b-f841-4f3e-81fc-9aa341c16ce9"
      },
      "execution_count": null,
      "outputs": [
        {
          "output_type": "execute_result",
          "data": {
            "text/plain": [
              "array([[47143,   373,   451,   574],\n",
              "       [  413,  2375,    73,    62],\n",
              "       [  431,    69,  2321,    74],\n",
              "       [  527,    69,    66,  2226]])"
            ]
          },
          "metadata": {},
          "execution_count": 60
        }
      ]
    },
    {
      "cell_type": "code",
      "source": [
        "accuracy          = (cm[0][0] + cm[1][1])/len(y_pred_valid)\n",
        "misclassification = (cm[0][1] + cm[1][0])/len(y_pred_valid)\n",
        "sensitivity       = (cm[0][0])/(cm[0][0] + cm[0][1])\n",
        "specificity       = (cm[1][1])/(cm[1][0] + cm[1][1])\n",
        "print(\"Accuracy         : \", accuracy)\n",
        "print(\"Misclassfication : \", misclassification)\n",
        "print(\"Recall           : \", sensitivity)\n",
        "print(\"Specificity      : \", specificity)"
      ],
      "metadata": {
        "colab": {
          "base_uri": "https://localhost:8080/"
        },
        "id": "-cVQBrQurFhn",
        "outputId": "74170301-1714-4674-b475-a43d4f39d1c3"
      },
      "execution_count": null,
      "outputs": [
        {
          "output_type": "stream",
          "name": "stdout",
          "text": [
            "Accuracy         :  0.8649885583524027\n",
            "Misclassfication :  0.013729977116704805\n",
            "Recall           :  0.9921500126273255\n",
            "Specificity      :  0.8518651362984218\n"
          ]
        }
      ]
    },
    {
      "cell_type": "markdown",
      "source": [
        "**Summary**\n",
        "\n",
        "We have found that a depth at around 115 could classify suitably medalists. However, the high recall may not be too bad; 85% of the entries are athletes receiving no medal. However, the accuracy and precision for bronze medal is the lowest. It is unsuitable to to misclassify medallists, the percentage of receiving a medal is low. So, this type of precision and accuracy is important."
      ],
      "metadata": {
        "id": "AGU91M0gC-Jx"
      }
    },
    {
      "cell_type": "markdown",
      "source": [
        "### **Random Forest**"
      ],
      "metadata": {
        "id": "sYuGo9aODDUV"
      }
    },
    {
      "cell_type": "code",
      "source": [
        "best_acc = 0.0\n",
        "n_estimators = range(5,10)\n",
        "max_depths   = range(90,120,5)\n",
        "\n",
        "for est in n_estimators:\n",
        "    for depth in max_depths:\n",
        "        rf = RandomForestClassifier(n_estimators = est,\n",
        "                                    max_depth = depth,\n",
        "                                    class_weight={0:0.85,1:0.05,2:0.05,3:0.05},\n",
        "                                    random_state = 42)\n",
        "        rf.fit(X_train, y_train)\n",
        "        train_score = rf.score(X_train, y_train)\n",
        "        test_score  = rf.score(X_valid, y_valid)\n",
        "        print(\" - estimators : \", est,\n",
        "              \" - max depths : \", depth,\n",
        "              \" - train score : \", train_score,\n",
        "              \" - valid score : \", valid_score)\n",
        "\n",
        "        if best_acc < valid_score:\n",
        "            print(\"--- new best accuracy found ---\")\n",
        "            best_acc = valid_score"
      ],
      "metadata": {
        "colab": {
          "base_uri": "https://localhost:8080/"
        },
        "id": "htgUANtWrIcd",
        "outputId": "90c0d06d-0e39-4a1e-84fa-65b90f2d4d32"
      },
      "execution_count": null,
      "outputs": [
        {
          "output_type": "stream",
          "name": "stdout",
          "text": [
            " - estimators :  5  - max depths :  90  - train score :  0.978642382177918  - valid score :  0.9445036421122505\n",
            "--- new best accuracy found ---\n",
            " - estimators :  5  - max depths :  95  - train score :  0.978642382177918  - valid score :  0.9445036421122505\n",
            " - estimators :  5  - max depths :  100  - train score :  0.978642382177918  - valid score :  0.9445036421122505\n",
            " - estimators :  5  - max depths :  105  - train score :  0.978642382177918  - valid score :  0.9445036421122505\n",
            " - estimators :  5  - max depths :  110  - train score :  0.978642382177918  - valid score :  0.9445036421122505\n",
            " - estimators :  5  - max depths :  115  - train score :  0.978642382177918  - valid score :  0.9445036421122505\n",
            " - estimators :  6  - max depths :  90  - train score :  0.9773497455485554  - valid score :  0.9445036421122505\n",
            " - estimators :  6  - max depths :  95  - train score :  0.9773497455485554  - valid score :  0.9445036421122505\n",
            " - estimators :  6  - max depths :  100  - train score :  0.9773497455485554  - valid score :  0.9445036421122505\n",
            " - estimators :  6  - max depths :  105  - train score :  0.9773497455485554  - valid score :  0.9445036421122505\n",
            " - estimators :  6  - max depths :  110  - train score :  0.9773497455485554  - valid score :  0.9445036421122505\n",
            " - estimators :  6  - max depths :  115  - train score :  0.9773497455485554  - valid score :  0.9445036421122505\n",
            " - estimators :  7  - max depths :  90  - train score :  0.983539262381945  - valid score :  0.9445036421122505\n",
            " - estimators :  7  - max depths :  95  - train score :  0.983539262381945  - valid score :  0.9445036421122505\n",
            " - estimators :  7  - max depths :  100  - train score :  0.983539262381945  - valid score :  0.9445036421122505\n",
            " - estimators :  7  - max depths :  105  - train score :  0.983539262381945  - valid score :  0.9445036421122505\n",
            " - estimators :  7  - max depths :  110  - train score :  0.983539262381945  - valid score :  0.9445036421122505\n",
            " - estimators :  7  - max depths :  115  - train score :  0.983539262381945  - valid score :  0.9445036421122505\n",
            " - estimators :  8  - max depths :  90  - train score :  0.9821418173772286  - valid score :  0.9445036421122505\n",
            " - estimators :  8  - max depths :  95  - train score :  0.9821418173772286  - valid score :  0.9445036421122505\n",
            " - estimators :  8  - max depths :  100  - train score :  0.9821418173772286  - valid score :  0.9445036421122505\n",
            " - estimators :  8  - max depths :  105  - train score :  0.9821418173772286  - valid score :  0.9445036421122505\n",
            " - estimators :  8  - max depths :  110  - train score :  0.9821418173772286  - valid score :  0.9445036421122505\n",
            " - estimators :  8  - max depths :  115  - train score :  0.9821418173772286  - valid score :  0.9445036421122505\n",
            " - estimators :  9  - max depths :  90  - train score :  0.9863690885164956  - valid score :  0.9445036421122505\n",
            " - estimators :  9  - max depths :  95  - train score :  0.9863690885164956  - valid score :  0.9445036421122505\n",
            " - estimators :  9  - max depths :  100  - train score :  0.9863690885164956  - valid score :  0.9445036421122505\n",
            " - estimators :  9  - max depths :  105  - train score :  0.9863690885164956  - valid score :  0.9445036421122505\n",
            " - estimators :  9  - max depths :  110  - train score :  0.9863690885164956  - valid score :  0.9445036421122505\n",
            " - estimators :  9  - max depths :  115  - train score :  0.9863690885164956  - valid score :  0.9445036421122505\n"
          ]
        }
      ]
    },
    {
      "cell_type": "code",
      "source": [
        "rf = RandomForestClassifier(n_estimators = 5,\n",
        "                                    max_depth = 90,\n",
        "                                    class_weight={0:0.85,1:0.05,2:0.05,3:0.05},\n",
        "                                    random_state = 42)\n",
        "\n",
        "rf.fit(X_train, y_train)\n",
        "train_score = rf.score(X_train, y_train)\n",
        "test_score  = rf.score(X_valid, y_valid)\n",
        "print(\" - estimators : \", 5,\n",
        "              \" - max depths : \", 50,\n",
        "              \" - train score : \", train_score,\n",
        "              \" - valid score : \", valid_score)"
      ],
      "metadata": {
        "colab": {
          "base_uri": "https://localhost:8080/"
        },
        "id": "4ntRf1jKtqJW",
        "outputId": "f8323b40-0c38-4b9a-c70c-9e0ac99356de"
      },
      "execution_count": null,
      "outputs": [
        {
          "output_type": "stream",
          "name": "stdout",
          "text": [
            " - estimators :  5  - max depths :  50  - train score :  0.978642382177918  - valid score :  0.9445036421122505\n"
          ]
        }
      ]
    },
    {
      "cell_type": "code",
      "source": [
        "y_pred = rf.predict(X_valid)\n",
        "y_pred"
      ],
      "metadata": {
        "colab": {
          "base_uri": "https://localhost:8080/"
        },
        "id": "ILuX9V4utsPZ",
        "outputId": "75ae41c1-e782-4646-fd50-0f278119d4fd"
      },
      "execution_count": null,
      "outputs": [
        {
          "output_type": "execute_result",
          "data": {
            "text/plain": [
              "array([0., 0., 0., ..., 0., 2., 0.])"
            ]
          },
          "metadata": {},
          "execution_count": 64
        }
      ]
    },
    {
      "cell_type": "code",
      "source": [
        "importances = rf.feature_importances_\n",
        "importances =  pd.DataFrame(x_cols, importances)\n",
        "importances"
      ],
      "metadata": {
        "colab": {
          "base_uri": "https://localhost:8080/",
          "height": 300
        },
        "id": "uiilQzhwtvtw",
        "outputId": "05d76cb2-b14d-4db1-cc7c-36fc09288de7"
      },
      "execution_count": null,
      "outputs": [
        {
          "output_type": "execute_result",
          "data": {
            "text/plain": [
              "               0\n",
              "0.010515     Sex\n",
              "0.196945     Age\n",
              "0.056048    Team\n",
              "0.050332     NOC\n",
              "0.000561  Season\n",
              "0.274167    City\n",
              "0.107747   Sport\n",
              "0.303685   Event"
            ],
            "text/html": [
              "\n",
              "  <div id=\"df-8457fb32-9b87-4b86-a444-bf1ea9925324\" class=\"colab-df-container\">\n",
              "    <div>\n",
              "<style scoped>\n",
              "    .dataframe tbody tr th:only-of-type {\n",
              "        vertical-align: middle;\n",
              "    }\n",
              "\n",
              "    .dataframe tbody tr th {\n",
              "        vertical-align: top;\n",
              "    }\n",
              "\n",
              "    .dataframe thead th {\n",
              "        text-align: right;\n",
              "    }\n",
              "</style>\n",
              "<table border=\"1\" class=\"dataframe\">\n",
              "  <thead>\n",
              "    <tr style=\"text-align: right;\">\n",
              "      <th></th>\n",
              "      <th>0</th>\n",
              "    </tr>\n",
              "  </thead>\n",
              "  <tbody>\n",
              "    <tr>\n",
              "      <th>0.010515</th>\n",
              "      <td>Sex</td>\n",
              "    </tr>\n",
              "    <tr>\n",
              "      <th>0.196945</th>\n",
              "      <td>Age</td>\n",
              "    </tr>\n",
              "    <tr>\n",
              "      <th>0.056048</th>\n",
              "      <td>Team</td>\n",
              "    </tr>\n",
              "    <tr>\n",
              "      <th>0.050332</th>\n",
              "      <td>NOC</td>\n",
              "    </tr>\n",
              "    <tr>\n",
              "      <th>0.000561</th>\n",
              "      <td>Season</td>\n",
              "    </tr>\n",
              "    <tr>\n",
              "      <th>0.274167</th>\n",
              "      <td>City</td>\n",
              "    </tr>\n",
              "    <tr>\n",
              "      <th>0.107747</th>\n",
              "      <td>Sport</td>\n",
              "    </tr>\n",
              "    <tr>\n",
              "      <th>0.303685</th>\n",
              "      <td>Event</td>\n",
              "    </tr>\n",
              "  </tbody>\n",
              "</table>\n",
              "</div>\n",
              "    <div class=\"colab-df-buttons\">\n",
              "\n",
              "  <div class=\"colab-df-container\">\n",
              "    <button class=\"colab-df-convert\" onclick=\"convertToInteractive('df-8457fb32-9b87-4b86-a444-bf1ea9925324')\"\n",
              "            title=\"Convert this dataframe to an interactive table.\"\n",
              "            style=\"display:none;\">\n",
              "\n",
              "  <svg xmlns=\"http://www.w3.org/2000/svg\" height=\"24px\" viewBox=\"0 -960 960 960\">\n",
              "    <path d=\"M120-120v-720h720v720H120Zm60-500h600v-160H180v160Zm220 220h160v-160H400v160Zm0 220h160v-160H400v160ZM180-400h160v-160H180v160Zm440 0h160v-160H620v160ZM180-180h160v-160H180v160Zm440 0h160v-160H620v160Z\"/>\n",
              "  </svg>\n",
              "    </button>\n",
              "\n",
              "  <style>\n",
              "    .colab-df-container {\n",
              "      display:flex;\n",
              "      gap: 12px;\n",
              "    }\n",
              "\n",
              "    .colab-df-convert {\n",
              "      background-color: #E8F0FE;\n",
              "      border: none;\n",
              "      border-radius: 50%;\n",
              "      cursor: pointer;\n",
              "      display: none;\n",
              "      fill: #1967D2;\n",
              "      height: 32px;\n",
              "      padding: 0 0 0 0;\n",
              "      width: 32px;\n",
              "    }\n",
              "\n",
              "    .colab-df-convert:hover {\n",
              "      background-color: #E2EBFA;\n",
              "      box-shadow: 0px 1px 2px rgba(60, 64, 67, 0.3), 0px 1px 3px 1px rgba(60, 64, 67, 0.15);\n",
              "      fill: #174EA6;\n",
              "    }\n",
              "\n",
              "    .colab-df-buttons div {\n",
              "      margin-bottom: 4px;\n",
              "    }\n",
              "\n",
              "    [theme=dark] .colab-df-convert {\n",
              "      background-color: #3B4455;\n",
              "      fill: #D2E3FC;\n",
              "    }\n",
              "\n",
              "    [theme=dark] .colab-df-convert:hover {\n",
              "      background-color: #434B5C;\n",
              "      box-shadow: 0px 1px 3px 1px rgba(0, 0, 0, 0.15);\n",
              "      filter: drop-shadow(0px 1px 2px rgba(0, 0, 0, 0.3));\n",
              "      fill: #FFFFFF;\n",
              "    }\n",
              "  </style>\n",
              "\n",
              "    <script>\n",
              "      const buttonEl =\n",
              "        document.querySelector('#df-8457fb32-9b87-4b86-a444-bf1ea9925324 button.colab-df-convert');\n",
              "      buttonEl.style.display =\n",
              "        google.colab.kernel.accessAllowed ? 'block' : 'none';\n",
              "\n",
              "      async function convertToInteractive(key) {\n",
              "        const element = document.querySelector('#df-8457fb32-9b87-4b86-a444-bf1ea9925324');\n",
              "        const dataTable =\n",
              "          await google.colab.kernel.invokeFunction('convertToInteractive',\n",
              "                                                    [key], {});\n",
              "        if (!dataTable) return;\n",
              "\n",
              "        const docLinkHtml = 'Like what you see? Visit the ' +\n",
              "          '<a target=\"_blank\" href=https://colab.research.google.com/notebooks/data_table.ipynb>data table notebook</a>'\n",
              "          + ' to learn more about interactive tables.';\n",
              "        element.innerHTML = '';\n",
              "        dataTable['output_type'] = 'display_data';\n",
              "        await google.colab.output.renderOutput(dataTable, element);\n",
              "        const docLink = document.createElement('div');\n",
              "        docLink.innerHTML = docLinkHtml;\n",
              "        element.appendChild(docLink);\n",
              "      }\n",
              "    </script>\n",
              "  </div>\n",
              "\n",
              "\n",
              "<div id=\"df-171161cb-cdb3-451b-87f9-ba5e0a828e5b\">\n",
              "  <button class=\"colab-df-quickchart\" onclick=\"quickchart('df-171161cb-cdb3-451b-87f9-ba5e0a828e5b')\"\n",
              "            title=\"Suggest charts.\"\n",
              "            style=\"display:none;\">\n",
              "\n",
              "<svg xmlns=\"http://www.w3.org/2000/svg\" height=\"24px\"viewBox=\"0 0 24 24\"\n",
              "     width=\"24px\">\n",
              "    <g>\n",
              "        <path d=\"M19 3H5c-1.1 0-2 .9-2 2v14c0 1.1.9 2 2 2h14c1.1 0 2-.9 2-2V5c0-1.1-.9-2-2-2zM9 17H7v-7h2v7zm4 0h-2V7h2v10zm4 0h-2v-4h2v4z\"/>\n",
              "    </g>\n",
              "</svg>\n",
              "  </button>\n",
              "\n",
              "<style>\n",
              "  .colab-df-quickchart {\n",
              "      --bg-color: #E8F0FE;\n",
              "      --fill-color: #1967D2;\n",
              "      --hover-bg-color: #E2EBFA;\n",
              "      --hover-fill-color: #174EA6;\n",
              "      --disabled-fill-color: #AAA;\n",
              "      --disabled-bg-color: #DDD;\n",
              "  }\n",
              "\n",
              "  [theme=dark] .colab-df-quickchart {\n",
              "      --bg-color: #3B4455;\n",
              "      --fill-color: #D2E3FC;\n",
              "      --hover-bg-color: #434B5C;\n",
              "      --hover-fill-color: #FFFFFF;\n",
              "      --disabled-bg-color: #3B4455;\n",
              "      --disabled-fill-color: #666;\n",
              "  }\n",
              "\n",
              "  .colab-df-quickchart {\n",
              "    background-color: var(--bg-color);\n",
              "    border: none;\n",
              "    border-radius: 50%;\n",
              "    cursor: pointer;\n",
              "    display: none;\n",
              "    fill: var(--fill-color);\n",
              "    height: 32px;\n",
              "    padding: 0;\n",
              "    width: 32px;\n",
              "  }\n",
              "\n",
              "  .colab-df-quickchart:hover {\n",
              "    background-color: var(--hover-bg-color);\n",
              "    box-shadow: 0 1px 2px rgba(60, 64, 67, 0.3), 0 1px 3px 1px rgba(60, 64, 67, 0.15);\n",
              "    fill: var(--button-hover-fill-color);\n",
              "  }\n",
              "\n",
              "  .colab-df-quickchart-complete:disabled,\n",
              "  .colab-df-quickchart-complete:disabled:hover {\n",
              "    background-color: var(--disabled-bg-color);\n",
              "    fill: var(--disabled-fill-color);\n",
              "    box-shadow: none;\n",
              "  }\n",
              "\n",
              "  .colab-df-spinner {\n",
              "    border: 2px solid var(--fill-color);\n",
              "    border-color: transparent;\n",
              "    border-bottom-color: var(--fill-color);\n",
              "    animation:\n",
              "      spin 1s steps(1) infinite;\n",
              "  }\n",
              "\n",
              "  @keyframes spin {\n",
              "    0% {\n",
              "      border-color: transparent;\n",
              "      border-bottom-color: var(--fill-color);\n",
              "      border-left-color: var(--fill-color);\n",
              "    }\n",
              "    20% {\n",
              "      border-color: transparent;\n",
              "      border-left-color: var(--fill-color);\n",
              "      border-top-color: var(--fill-color);\n",
              "    }\n",
              "    30% {\n",
              "      border-color: transparent;\n",
              "      border-left-color: var(--fill-color);\n",
              "      border-top-color: var(--fill-color);\n",
              "      border-right-color: var(--fill-color);\n",
              "    }\n",
              "    40% {\n",
              "      border-color: transparent;\n",
              "      border-right-color: var(--fill-color);\n",
              "      border-top-color: var(--fill-color);\n",
              "    }\n",
              "    60% {\n",
              "      border-color: transparent;\n",
              "      border-right-color: var(--fill-color);\n",
              "    }\n",
              "    80% {\n",
              "      border-color: transparent;\n",
              "      border-right-color: var(--fill-color);\n",
              "      border-bottom-color: var(--fill-color);\n",
              "    }\n",
              "    90% {\n",
              "      border-color: transparent;\n",
              "      border-bottom-color: var(--fill-color);\n",
              "    }\n",
              "  }\n",
              "</style>\n",
              "\n",
              "  <script>\n",
              "    async function quickchart(key) {\n",
              "      const quickchartButtonEl =\n",
              "        document.querySelector('#' + key + ' button');\n",
              "      quickchartButtonEl.disabled = true;  // To prevent multiple clicks.\n",
              "      quickchartButtonEl.classList.add('colab-df-spinner');\n",
              "      try {\n",
              "        const charts = await google.colab.kernel.invokeFunction(\n",
              "            'suggestCharts', [key], {});\n",
              "      } catch (error) {\n",
              "        console.error('Error during call to suggestCharts:', error);\n",
              "      }\n",
              "      quickchartButtonEl.classList.remove('colab-df-spinner');\n",
              "      quickchartButtonEl.classList.add('colab-df-quickchart-complete');\n",
              "    }\n",
              "    (() => {\n",
              "      let quickchartButtonEl =\n",
              "        document.querySelector('#df-171161cb-cdb3-451b-87f9-ba5e0a828e5b button');\n",
              "      quickchartButtonEl.style.display =\n",
              "        google.colab.kernel.accessAllowed ? 'block' : 'none';\n",
              "    })();\n",
              "  </script>\n",
              "</div>\n",
              "    </div>\n",
              "  </div>\n"
            ]
          },
          "metadata": {},
          "execution_count": 65
        }
      ]
    },
    {
      "cell_type": "code",
      "source": [
        "print(metrics.classification_report(y_pred, y_valid))"
      ],
      "metadata": {
        "colab": {
          "base_uri": "https://localhost:8080/"
        },
        "id": "h77nndRytxXg",
        "outputId": "286637bf-145e-4015-89a8-1b66825a884c"
      },
      "execution_count": null,
      "outputs": [
        {
          "output_type": "stream",
          "name": "stdout",
          "text": [
            "              precision    recall  f1-score   support\n",
            "\n",
            "         0.0       0.99      0.95      0.97     50342\n",
            "         1.0       0.72      0.86      0.78      2458\n",
            "         2.0       0.68      0.87      0.76      2276\n",
            "         3.0       0.65      0.86      0.74      2171\n",
            "\n",
            "    accuracy                           0.94     57247\n",
            "   macro avg       0.76      0.88      0.81     57247\n",
            "weighted avg       0.95      0.94      0.94     57247\n",
            "\n"
          ]
        }
      ]
    },
    {
      "cell_type": "code",
      "source": [
        "cm = confusion_matrix(y_valid, y_pred)\n",
        "cm"
      ],
      "metadata": {
        "colab": {
          "base_uri": "https://localhost:8080/"
        },
        "id": "IbinHpwft3rG",
        "outputId": "e66c09a8-4d63-4aa0-f9c4-194d4369f44d"
      },
      "execution_count": null,
      "outputs": [
        {
          "output_type": "execute_result",
          "data": {
            "text/plain": [
              "array([[47957,   190,   191,   203],\n",
              "       [  713,  2108,    56,    46],\n",
              "       [  773,    92,  1974,    56],\n",
              "       [  899,    68,    55,  1866]])"
            ]
          },
          "metadata": {},
          "execution_count": 67
        }
      ]
    },
    {
      "cell_type": "markdown",
      "source": [
        "**Summary**:\n",
        "\n",
        "The accuracy has increased for non-medalists, who represent the majority of athletes participating in the Olympic games. So it remains unsuitable for predicting accurately medalists; some precision has decreased in comparison to the decision trees."
      ],
      "metadata": {
        "id": "VOcaJWp0DYkZ"
      }
    },
    {
      "cell_type": "markdown",
      "source": [
        "### **Prediction on test data**"
      ],
      "metadata": {
        "id": "3ub0flDfDc5f"
      }
    },
    {
      "cell_type": "code",
      "source": [
        "y_pred = clf.predict(X_test)\n",
        "y_pred"
      ],
      "metadata": {
        "colab": {
          "base_uri": "https://localhost:8080/"
        },
        "id": "CGdmZgFxt7VV",
        "outputId": "eaada143-e75f-43c5-b29f-3d5e5e049c62"
      },
      "execution_count": null,
      "outputs": [
        {
          "output_type": "execute_result",
          "data": {
            "text/plain": [
              "array([0., 2., 0., ..., 0., 0., 0.])"
            ]
          },
          "metadata": {},
          "execution_count": 68
        }
      ]
    },
    {
      "cell_type": "code",
      "source": [
        "importances = clf.feature_importances_\n",
        "importances =  pd.DataFrame(x_cols, importances)\n",
        "importances"
      ],
      "metadata": {
        "colab": {
          "base_uri": "https://localhost:8080/",
          "height": 300
        },
        "id": "VxbhULclt9dM",
        "outputId": "4dc38561-a875-48de-967a-8dafac924cee"
      },
      "execution_count": null,
      "outputs": [
        {
          "output_type": "execute_result",
          "data": {
            "text/plain": [
              "               0\n",
              "0.021451     Sex\n",
              "0.163674     Age\n",
              "0.081812    Team\n",
              "0.082487     NOC\n",
              "0.000842  Season\n",
              "0.278736    City\n",
              "0.112623   Sport\n",
              "0.258375   Event"
            ],
            "text/html": [
              "\n",
              "  <div id=\"df-1d353506-8409-49cb-b874-ebd64106f68a\" class=\"colab-df-container\">\n",
              "    <div>\n",
              "<style scoped>\n",
              "    .dataframe tbody tr th:only-of-type {\n",
              "        vertical-align: middle;\n",
              "    }\n",
              "\n",
              "    .dataframe tbody tr th {\n",
              "        vertical-align: top;\n",
              "    }\n",
              "\n",
              "    .dataframe thead th {\n",
              "        text-align: right;\n",
              "    }\n",
              "</style>\n",
              "<table border=\"1\" class=\"dataframe\">\n",
              "  <thead>\n",
              "    <tr style=\"text-align: right;\">\n",
              "      <th></th>\n",
              "      <th>0</th>\n",
              "    </tr>\n",
              "  </thead>\n",
              "  <tbody>\n",
              "    <tr>\n",
              "      <th>0.021451</th>\n",
              "      <td>Sex</td>\n",
              "    </tr>\n",
              "    <tr>\n",
              "      <th>0.163674</th>\n",
              "      <td>Age</td>\n",
              "    </tr>\n",
              "    <tr>\n",
              "      <th>0.081812</th>\n",
              "      <td>Team</td>\n",
              "    </tr>\n",
              "    <tr>\n",
              "      <th>0.082487</th>\n",
              "      <td>NOC</td>\n",
              "    </tr>\n",
              "    <tr>\n",
              "      <th>0.000842</th>\n",
              "      <td>Season</td>\n",
              "    </tr>\n",
              "    <tr>\n",
              "      <th>0.278736</th>\n",
              "      <td>City</td>\n",
              "    </tr>\n",
              "    <tr>\n",
              "      <th>0.112623</th>\n",
              "      <td>Sport</td>\n",
              "    </tr>\n",
              "    <tr>\n",
              "      <th>0.258375</th>\n",
              "      <td>Event</td>\n",
              "    </tr>\n",
              "  </tbody>\n",
              "</table>\n",
              "</div>\n",
              "    <div class=\"colab-df-buttons\">\n",
              "\n",
              "  <div class=\"colab-df-container\">\n",
              "    <button class=\"colab-df-convert\" onclick=\"convertToInteractive('df-1d353506-8409-49cb-b874-ebd64106f68a')\"\n",
              "            title=\"Convert this dataframe to an interactive table.\"\n",
              "            style=\"display:none;\">\n",
              "\n",
              "  <svg xmlns=\"http://www.w3.org/2000/svg\" height=\"24px\" viewBox=\"0 -960 960 960\">\n",
              "    <path d=\"M120-120v-720h720v720H120Zm60-500h600v-160H180v160Zm220 220h160v-160H400v160Zm0 220h160v-160H400v160ZM180-400h160v-160H180v160Zm440 0h160v-160H620v160ZM180-180h160v-160H180v160Zm440 0h160v-160H620v160Z\"/>\n",
              "  </svg>\n",
              "    </button>\n",
              "\n",
              "  <style>\n",
              "    .colab-df-container {\n",
              "      display:flex;\n",
              "      gap: 12px;\n",
              "    }\n",
              "\n",
              "    .colab-df-convert {\n",
              "      background-color: #E8F0FE;\n",
              "      border: none;\n",
              "      border-radius: 50%;\n",
              "      cursor: pointer;\n",
              "      display: none;\n",
              "      fill: #1967D2;\n",
              "      height: 32px;\n",
              "      padding: 0 0 0 0;\n",
              "      width: 32px;\n",
              "    }\n",
              "\n",
              "    .colab-df-convert:hover {\n",
              "      background-color: #E2EBFA;\n",
              "      box-shadow: 0px 1px 2px rgba(60, 64, 67, 0.3), 0px 1px 3px 1px rgba(60, 64, 67, 0.15);\n",
              "      fill: #174EA6;\n",
              "    }\n",
              "\n",
              "    .colab-df-buttons div {\n",
              "      margin-bottom: 4px;\n",
              "    }\n",
              "\n",
              "    [theme=dark] .colab-df-convert {\n",
              "      background-color: #3B4455;\n",
              "      fill: #D2E3FC;\n",
              "    }\n",
              "\n",
              "    [theme=dark] .colab-df-convert:hover {\n",
              "      background-color: #434B5C;\n",
              "      box-shadow: 0px 1px 3px 1px rgba(0, 0, 0, 0.15);\n",
              "      filter: drop-shadow(0px 1px 2px rgba(0, 0, 0, 0.3));\n",
              "      fill: #FFFFFF;\n",
              "    }\n",
              "  </style>\n",
              "\n",
              "    <script>\n",
              "      const buttonEl =\n",
              "        document.querySelector('#df-1d353506-8409-49cb-b874-ebd64106f68a button.colab-df-convert');\n",
              "      buttonEl.style.display =\n",
              "        google.colab.kernel.accessAllowed ? 'block' : 'none';\n",
              "\n",
              "      async function convertToInteractive(key) {\n",
              "        const element = document.querySelector('#df-1d353506-8409-49cb-b874-ebd64106f68a');\n",
              "        const dataTable =\n",
              "          await google.colab.kernel.invokeFunction('convertToInteractive',\n",
              "                                                    [key], {});\n",
              "        if (!dataTable) return;\n",
              "\n",
              "        const docLinkHtml = 'Like what you see? Visit the ' +\n",
              "          '<a target=\"_blank\" href=https://colab.research.google.com/notebooks/data_table.ipynb>data table notebook</a>'\n",
              "          + ' to learn more about interactive tables.';\n",
              "        element.innerHTML = '';\n",
              "        dataTable['output_type'] = 'display_data';\n",
              "        await google.colab.output.renderOutput(dataTable, element);\n",
              "        const docLink = document.createElement('div');\n",
              "        docLink.innerHTML = docLinkHtml;\n",
              "        element.appendChild(docLink);\n",
              "      }\n",
              "    </script>\n",
              "  </div>\n",
              "\n",
              "\n",
              "<div id=\"df-9b6f7fa9-fdfa-406b-9e3a-a6cdfd1a00f6\">\n",
              "  <button class=\"colab-df-quickchart\" onclick=\"quickchart('df-9b6f7fa9-fdfa-406b-9e3a-a6cdfd1a00f6')\"\n",
              "            title=\"Suggest charts.\"\n",
              "            style=\"display:none;\">\n",
              "\n",
              "<svg xmlns=\"http://www.w3.org/2000/svg\" height=\"24px\"viewBox=\"0 0 24 24\"\n",
              "     width=\"24px\">\n",
              "    <g>\n",
              "        <path d=\"M19 3H5c-1.1 0-2 .9-2 2v14c0 1.1.9 2 2 2h14c1.1 0 2-.9 2-2V5c0-1.1-.9-2-2-2zM9 17H7v-7h2v7zm4 0h-2V7h2v10zm4 0h-2v-4h2v4z\"/>\n",
              "    </g>\n",
              "</svg>\n",
              "  </button>\n",
              "\n",
              "<style>\n",
              "  .colab-df-quickchart {\n",
              "      --bg-color: #E8F0FE;\n",
              "      --fill-color: #1967D2;\n",
              "      --hover-bg-color: #E2EBFA;\n",
              "      --hover-fill-color: #174EA6;\n",
              "      --disabled-fill-color: #AAA;\n",
              "      --disabled-bg-color: #DDD;\n",
              "  }\n",
              "\n",
              "  [theme=dark] .colab-df-quickchart {\n",
              "      --bg-color: #3B4455;\n",
              "      --fill-color: #D2E3FC;\n",
              "      --hover-bg-color: #434B5C;\n",
              "      --hover-fill-color: #FFFFFF;\n",
              "      --disabled-bg-color: #3B4455;\n",
              "      --disabled-fill-color: #666;\n",
              "  }\n",
              "\n",
              "  .colab-df-quickchart {\n",
              "    background-color: var(--bg-color);\n",
              "    border: none;\n",
              "    border-radius: 50%;\n",
              "    cursor: pointer;\n",
              "    display: none;\n",
              "    fill: var(--fill-color);\n",
              "    height: 32px;\n",
              "    padding: 0;\n",
              "    width: 32px;\n",
              "  }\n",
              "\n",
              "  .colab-df-quickchart:hover {\n",
              "    background-color: var(--hover-bg-color);\n",
              "    box-shadow: 0 1px 2px rgba(60, 64, 67, 0.3), 0 1px 3px 1px rgba(60, 64, 67, 0.15);\n",
              "    fill: var(--button-hover-fill-color);\n",
              "  }\n",
              "\n",
              "  .colab-df-quickchart-complete:disabled,\n",
              "  .colab-df-quickchart-complete:disabled:hover {\n",
              "    background-color: var(--disabled-bg-color);\n",
              "    fill: var(--disabled-fill-color);\n",
              "    box-shadow: none;\n",
              "  }\n",
              "\n",
              "  .colab-df-spinner {\n",
              "    border: 2px solid var(--fill-color);\n",
              "    border-color: transparent;\n",
              "    border-bottom-color: var(--fill-color);\n",
              "    animation:\n",
              "      spin 1s steps(1) infinite;\n",
              "  }\n",
              "\n",
              "  @keyframes spin {\n",
              "    0% {\n",
              "      border-color: transparent;\n",
              "      border-bottom-color: var(--fill-color);\n",
              "      border-left-color: var(--fill-color);\n",
              "    }\n",
              "    20% {\n",
              "      border-color: transparent;\n",
              "      border-left-color: var(--fill-color);\n",
              "      border-top-color: var(--fill-color);\n",
              "    }\n",
              "    30% {\n",
              "      border-color: transparent;\n",
              "      border-left-color: var(--fill-color);\n",
              "      border-top-color: var(--fill-color);\n",
              "      border-right-color: var(--fill-color);\n",
              "    }\n",
              "    40% {\n",
              "      border-color: transparent;\n",
              "      border-right-color: var(--fill-color);\n",
              "      border-top-color: var(--fill-color);\n",
              "    }\n",
              "    60% {\n",
              "      border-color: transparent;\n",
              "      border-right-color: var(--fill-color);\n",
              "    }\n",
              "    80% {\n",
              "      border-color: transparent;\n",
              "      border-right-color: var(--fill-color);\n",
              "      border-bottom-color: var(--fill-color);\n",
              "    }\n",
              "    90% {\n",
              "      border-color: transparent;\n",
              "      border-bottom-color: var(--fill-color);\n",
              "    }\n",
              "  }\n",
              "</style>\n",
              "\n",
              "  <script>\n",
              "    async function quickchart(key) {\n",
              "      const quickchartButtonEl =\n",
              "        document.querySelector('#' + key + ' button');\n",
              "      quickchartButtonEl.disabled = true;  // To prevent multiple clicks.\n",
              "      quickchartButtonEl.classList.add('colab-df-spinner');\n",
              "      try {\n",
              "        const charts = await google.colab.kernel.invokeFunction(\n",
              "            'suggestCharts', [key], {});\n",
              "      } catch (error) {\n",
              "        console.error('Error during call to suggestCharts:', error);\n",
              "      }\n",
              "      quickchartButtonEl.classList.remove('colab-df-spinner');\n",
              "      quickchartButtonEl.classList.add('colab-df-quickchart-complete');\n",
              "    }\n",
              "    (() => {\n",
              "      let quickchartButtonEl =\n",
              "        document.querySelector('#df-9b6f7fa9-fdfa-406b-9e3a-a6cdfd1a00f6 button');\n",
              "      quickchartButtonEl.style.display =\n",
              "        google.colab.kernel.accessAllowed ? 'block' : 'none';\n",
              "    })();\n",
              "  </script>\n",
              "</div>\n",
              "    </div>\n",
              "  </div>\n"
            ]
          },
          "metadata": {},
          "execution_count": 69
        }
      ]
    },
    {
      "cell_type": "code",
      "source": [
        "print(metrics.classification_report(y_pred, y_test))"
      ],
      "metadata": {
        "colab": {
          "base_uri": "https://localhost:8080/"
        },
        "id": "wVF0rizmt_eg",
        "outputId": "d310296b-bd8b-4b17-a7dc-0429262722f1"
      },
      "execution_count": null,
      "outputs": [
        {
          "output_type": "stream",
          "name": "stdout",
          "text": [
            "              precision    recall  f1-score   support\n",
            "\n",
            "         0.0       0.97      0.97      0.97     48420\n",
            "         1.0       0.83      0.80      0.82      3034\n",
            "         2.0       0.80      0.78      0.79      2860\n",
            "         3.0       0.79      0.78      0.78      2934\n",
            "\n",
            "    accuracy                           0.94     57248\n",
            "   macro avg       0.85      0.83      0.84     57248\n",
            "weighted avg       0.94      0.94      0.94     57248\n",
            "\n"
          ]
        }
      ]
    },
    {
      "cell_type": "code",
      "source": [
        "cm = confusion_matrix(y_test, y_pred)\n",
        "cm"
      ],
      "metadata": {
        "colab": {
          "base_uri": "https://localhost:8080/"
        },
        "id": "2cMBfBvKuB5M",
        "outputId": "aeaec968-736f-42c6-b218-271b4505b7d7"
      },
      "execution_count": null,
      "outputs": [
        {
          "output_type": "execute_result",
          "data": {
            "text/plain": [
              "array([[47154,   466,   469,   545],\n",
              "       [  382,  2427,    61,    45],\n",
              "       [  434,    73,  2238,    70],\n",
              "       [  450,    68,    92,  2274]])"
            ]
          },
          "metadata": {},
          "execution_count": 71
        }
      ]
    },
    {
      "cell_type": "code",
      "source": [
        "accuracy          = (cm[0][0] + cm[1][1])/len(y_pred)\n",
        "misclassification = (cm[0][1] + cm[1][0])/len(y_pred)\n",
        "sensitivity       = (cm[0][0])/(cm[0][0] + cm[0][1])\n",
        "specificity       = (cm[1][1])/(cm[1][0] + cm[1][1])\n",
        "print(\"Accuracy         : \", accuracy)\n",
        "print(\"Misclassfication : \", misclassification)\n",
        "print(\"Recall           : \", sensitivity)\n",
        "print(\"Specificity      : \", specificity)"
      ],
      "metadata": {
        "colab": {
          "base_uri": "https://localhost:8080/"
        },
        "id": "mff8qcssuD1q",
        "outputId": "ebeda62e-4638-4bc6-b830-a1e593025858"
      },
      "execution_count": null,
      "outputs": [
        {
          "output_type": "stream",
          "name": "stdout",
          "text": [
            "Accuracy         :  0.866073923979877\n",
            "Misclassfication :  0.014812744550027948\n",
            "Recall           :  0.9902141957160857\n",
            "Specificity      :  0.8640085439658242\n"
          ]
        }
      ]
    },
    {
      "cell_type": "markdown",
      "source": [
        "### **To Conclude**\n",
        "So we have demonstrated how some Decision Trees and Random Forrest classifiers could attempt to classify athletes as non-medalist, bronze medalist, silver medalist, and gold medalist. Some classification on unseen data has achieved some good outcomes for the non-medalists, representing 85% of the athletes. So, the classifiers are accurate to classify the medalists. It is worth noting the precision is nonetheless approximately greater than or equal 80%; 1/5 of medalists are misclassified. This ratio is a bit too high.\n",
        "\n",
        "it is worth noting both classifiers have identified the city, event, age and sport influencing potentially the most the classification. It shows some grouping of data around the competitions has been learnt by the model fitting process. The latter may be encouraging."
      ],
      "metadata": {
        "id": "3fw1IyoqDlBb"
      }
    }
  ]
}